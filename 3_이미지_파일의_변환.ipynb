{
  "nbformat": 4,
  "nbformat_minor": 0,
  "metadata": {
    "colab": {
      "provenance": [],
      "authorship_tag": "ABX9TyPOeoRACOsOMO69XPz4QGh8",
      "include_colab_link": true
    },
    "kernelspec": {
      "name": "python3",
      "display_name": "Python 3"
    },
    "language_info": {
      "name": "python"
    }
  },
  "cells": [
    {
      "cell_type": "markdown",
      "metadata": {
        "id": "view-in-github",
        "colab_type": "text"
      },
      "source": [
        "<a href=\"https://colab.research.google.com/github/Haeune-Jeon/CV/blob/main/3_%EC%9D%B4%EB%AF%B8%EC%A7%80_%ED%8C%8C%EC%9D%BC%EC%9D%98_%EB%B3%80%ED%99%98.ipynb\" target=\"_parent\"><img src=\"https://colab.research.google.com/assets/colab-badge.svg\" alt=\"Open In Colab\"/></a>"
      ]
    },
    {
      "cell_type": "code",
      "execution_count": null,
      "metadata": {
        "colab": {
          "base_uri": "https://localhost:8080/"
        },
        "id": "BlmDspQu9w7R",
        "outputId": "bbc07b71-d530-4369-e8aa-2d4e9155a033"
      },
      "outputs": [
        {
          "output_type": "stream",
          "name": "stdout",
          "text": [
            "Drive already mounted at /content/drive; to attempt to forcibly remount, call drive.mount(\"/content/drive\", force_remount=True).\n"
          ]
        }
      ],
      "source": [
        "from google.colab import drive\n",
        "drive.mount('/content/drive')\n",
        "\n",
        "import os ,sys\n",
        "from IPython.display import display\n",
        "from IPython.display import Image as _Imgdis\n",
        "from PIL import Image\n",
        "import numpy as np"
      ]
    },
    {
      "cell_type": "code",
      "source": [
        "folder = '/content/drive/MyDrive/pytest_img/mnist_jpg'\n",
        "\n",
        "# 해당 폴더 내에서 파일에 해당하는 것들의 목록을 구한다 (isfile: 지금 읽고 있는 것이 파일이니?)\n",
        "files = [f for f in os.listdir(folder) if os.path.isfile(os.path.join(folder,f))]\n",
        "\n",
        "print(files)\n",
        "print(\"Working with {0} images\".format(len(files)))"
      ],
      "metadata": {
        "colab": {
          "base_uri": "https://localhost:8080/"
        },
        "id": "9nBBa1fp_2PX",
        "outputId": "02ae043c-98ae-41b0-fbd2-e3d3cfb9787f"
      },
      "execution_count": null,
      "outputs": [
        {
          "output_type": "stream",
          "name": "stdout",
          "text": [
            "['img_2_ (1).jpg', 'img_0_ (4).jpg', 'img_2_ (2).jpg', 'img_2_ (6).jpg', 'img_0_ (1).jpg', 'img_1_ (5).jpg', 'img_0_ (8).jpg', 'img_1_ (8).jpg', 'img_0_ (2).jpg', 'img_2_ (10).jpg', 'img_2_ (4).jpg', 'img_0_ (9).jpg', 'img_1_ (10).jpg', 'img_0_ (3).jpg', 'img_1_ (3).jpg', 'img_1_ (7).jpg', 'img_1_ (1).jpg', 'img_0_ (7).jpg', 'img_1_ (2).jpg', 'img_1_ (9).jpg', 'img_2_ (5).jpg', 'img_1_ (6).jpg', 'img_0_ (6).jpg', 'img_0_ (10).jpg', 'img_0_ (5).jpg', 'img_1_ (4).jpg', 'img_2_ (3).jpg', 'img_4_ (5).jpg', 'img_4_ (8).jpg', 'img_2_ (7).jpg', 'img_4_ (6).jpg', 'img_3_ (10).jpg', 'img_3_ (8).jpg', 'img_2_ (8).jpg', 'img_4_ (3).jpg', 'img_5_ (1).jpg', 'img_3_ (7).jpg', 'img_3_ (2).jpg', 'img_3_ (3).jpg', 'img_5_ (2).jpg', 'img_4_ (9).jpg', 'img_3_ (6).jpg', 'img_5_ (3).jpg', 'img_4_ (1).jpg', 'img_5_ (10).jpg', 'img_2_ (9).jpg', 'img_4_ (2).jpg', 'img_4_ (7).jpg', 'img_3_ (1).jpg', 'img_5_ (4).jpg', 'img_3_ (9).jpg', 'img_4_ (4).jpg', 'img_3_ (4).jpg', 'img_3_ (5).jpg', 'img_4_ (10).jpg', 'img_6_ (6).jpg', 'img_5_ (8).jpg', 'img_7_ (1).jpg', 'img_6_ (10).jpg', 'img_7_ (4).jpg', 'img_7_ (5).jpg', 'img_6_ (2).jpg', 'img_7_ (9).jpg', 'img_6_ (9).jpg', 'img_7_ (2).jpg', 'img_6_ (7).jpg', 'img_7_ (7).jpg', 'img_6_ (4).jpg', 'img_6_ (1).jpg', 'img_6_ (5).jpg', 'img_5_ (5).jpg', 'img_7_ (8).jpg', 'img_5_ (9).jpg', 'img_5_ (7).jpg', 'img_8_ (1).jpg', 'img_7_ (3).jpg', 'img_5_ (6).jpg', 'img_7_ (6).jpg', 'img_8_ (10).jpg', 'img_7_ (10).jpg', 'img_6_ (3).jpg', 'img_6_ (8).jpg', 'img_9_ (3).jpg', 'img_9_ (4).jpg', 'img_9_ (5).jpg', 'img_9_ (7).jpg', 'img_8_ (2).jpg', 'img_8_ (7).jpg', 'img_9_ (6).jpg', 'img_9_ (10).jpg', 'img_8_ (8).jpg', 'img_9_ (2).jpg', 'img_9_ (8).jpg', 'img_8_ (4).jpg', 'img_8_ (3).jpg', 'img_9_ (9).jpg', 'img_8_ (6).jpg', 'img_8_ (5).jpg', 'img_9_ (1).jpg', 'img_8_ (9).jpg']\n",
            "Working with 100 images\n"
          ]
        }
      ]
    },
    {
      "cell_type": "code",
      "source": [
        "# 처음 두 개만 출력\n",
        "for i in range(0,2):\n",
        "  print(files[i])\n",
        "  display(_Imgdis(filename=folder + \"/\" + files[i], width=30, height=40))"
      ],
      "metadata": {
        "colab": {
          "base_uri": "https://localhost:8080/",
          "height": 133
        },
        "id": "m2DNUrRoCoVR",
        "outputId": "7b0bc1d9-36b2-42a3-fed2-f4aa61af579f"
      },
      "execution_count": null,
      "outputs": [
        {
          "output_type": "stream",
          "name": "stdout",
          "text": [
            "img_2_ (1).jpg\n"
          ]
        },
        {
          "output_type": "display_data",
          "data": {
            "image/jpeg": "[encoded data removed]",
            "text/plain": [
              "<IPython.core.display.Image object>"
            ]
          },
          "metadata": {
            "image/jpeg": {
              "width": 30,
              "height": 40
            }
          }
        },
        {
          "output_type": "stream",
          "name": "stdout",
          "text": [
            "img_0_ (4).jpg\n"
          ]
        },
        {
          "output_type": "display_data",
          "data": {
            "image/jpeg": "[encoded data removed]",
            "text/plain": [
              "<IPython.core.display.Image object>"
            ]
          },
          "metadata": {
            "image/jpeg": {
              "width": 30,
              "height": 40
            }
          }
        }
      ]
    },
    {
      "cell_type": "code",
      "source": [
        "from tensorflow.keras.preprocessing.image import array_to_img, img_to_array, load_img\n",
        "\n",
        "file_names = []  # 파일 이름 전체를 저장할 리스트\n",
        "file_labels = []  # 라벨을 저장할 리스트\n",
        "\n",
        "# 파일 이름으로부터 라벨 부분만 추출하여 file_labels 리스트에 저장한다\n",
        "for _file in files:\n",
        "  file_names.append(_file)  # file 이름을 file_names 리스트에 계속 추가됨\n",
        "  label_start = _file.find(\"_\")+1  # 라벨의 시작 위치 (4)\n",
        "  label_end = _file.find(\"_ (\")     # 라벨의 끝 위치 (5)\n",
        "  file_labels.append(int(_file[label_start:label_end]))  # 라벨을 file_labels 리스트에 추가\n",
        "\n",
        "print(\"Files in folder: %d\" % len(file_names))"
      ],
      "metadata": {
        "colab": {
          "base_uri": "https://localhost:8080/"
        },
        "id": "h2S9_Xn6EZe3",
        "outputId": "c483cd9b-643b-4f95-9f8e-2673f4379514"
      },
      "execution_count": null,
      "outputs": [
        {
          "output_type": "stream",
          "name": "stdout",
          "text": [
            "Files in folder: 100\n"
          ]
        }
      ]
    },
    {
      "cell_type": "code",
      "source": [
        "print(file_labels)"
      ],
      "metadata": {
        "colab": {
          "base_uri": "https://localhost:8080/"
        },
        "id": "QjhyP6vcLgDd",
        "outputId": "1fee446a-5d82-4e64-ca50-d45abceab16d"
      },
      "execution_count": null,
      "outputs": [
        {
          "output_type": "stream",
          "name": "stdout",
          "text": [
            "[2, 0, 2, 2, 0, 1, 0, 1, 0, 2, 2, 0, 1, 0, 1, 1, 1, 0, 1, 1, 2, 1, 0, 0, 0, 1, 2, 4, 4, 2, 4, 3, 3, 2, 4, 5, 3, 3, 3, 5, 4, 3, 5, 4, 5, 2, 4, 4, 3, 5, 3, 4, 3, 3, 4, 6, 5, 7, 6, 7, 7, 6, 7, 6, 7, 6, 7, 6, 6, 6, 5, 7, 5, 5, 8, 7, 5, 7, 8, 7, 6, 6, 9, 9, 9, 9, 8, 8, 9, 9, 8, 9, 9, 8, 8, 9, 8, 8, 9, 8]\n"
          ]
        }
      ]
    },
    {
      "cell_type": "code",
      "source": [
        "os. chdir(folder)\n",
        "\n",
        "# 한 개의 파일을 로드한다\n",
        "img = load_img(file_names[0])\n",
        "print(\"Original:\", type(img))\n",
        "\n",
        "# PIL 파일을 넘파이 배열로 변환\n",
        "img_array = img_to_array(img)\n",
        "\n",
        "print(\"Numpy array info:\")\n",
        "print(type(img_array))\n",
        "print(\"type:\", img_array.dtype)\n",
        "print(\"shape:\", img_array.shape)  # (height, width, channel = 28,28,3)"
      ],
      "metadata": {
        "colab": {
          "base_uri": "https://localhost:8080/"
        },
        "id": "Wc5EBpKtL2Il",
        "outputId": "d1202bcf-c9fc-4a87-f331-1ebacd12ebe6"
      },
      "execution_count": null,
      "outputs": [
        {
          "output_type": "stream",
          "name": "stdout",
          "text": [
            "Original: <class 'PIL.Image.Image'>\n",
            "Numpy array info:\n",
            "<class 'numpy.ndarray'>\n",
            "type: float32\n",
            "shape: (28, 28, 3)\n"
          ]
        }
      ]
    },
    {
      "cell_type": "code",
      "source": [
        "image_height = img_array.shape[0]   # 28\n",
        "image_width = img_array.shape[1]    # 28\n",
        "channels = img_array.shape[2]  # 3\n",
        "\n",
        "dataset = np.ndarray(shape=(len(file_names), image_height, image_width, channels), dtype=np.int32)\n",
        "print(dataset.shape)"
      ],
      "metadata": {
        "colab": {
          "base_uri": "https://localhost:8080/"
        },
        "id": "uqTCA5TlNY2r",
        "outputId": "6fd906ad-d3db-4929-f3fb-a6153c4b635f"
      },
      "execution_count": null,
      "outputs": [
        {
          "output_type": "stream",
          "name": "stdout",
          "text": [
            "(100, 28, 28, 3)\n"
          ]
        }
      ]
    },
    {
      "cell_type": "code",
      "source": [
        "for count, item in enumerate(file_names):  #file_names 배열에서 인덱스 0부터 시작해서 인덱스 하나씩 올라가면서 반복문 돌아감\n",
        "  img = load_img(file_names[count])   # PIL 타입의 image\n",
        "  img_array = img_to_array(img)   # numpy 타입으로 바꿈\n",
        "  img_array = img_array.reshape(28,28,3)\n",
        "  dataset[count] = img_array  # dataset에 변환한 데이터 넣어주기\n",
        "\n",
        "  if count % 5000 == 0:\n",
        "    print(\"%d images to array\" % count)\n",
        "\n",
        "print(\"모든 이미지가 배열로 변환되었습니다!\")"
      ],
      "metadata": {
        "id": "Q2lmF2tiPt_9",
        "colab": {
          "base_uri": "https://localhost:8080/"
        },
        "outputId": "13aa62da-92f3-4e9d-bc49-5dea303ef7c6"
      },
      "execution_count": null,
      "outputs": [
        {
          "output_type": "stream",
          "name": "stdout",
          "text": [
            "0 images to array\n",
            "모든 이미지가 배열로 변환되었습니다!\n"
          ]
        }
      ]
    },
    {
      "cell_type": "code",
      "source": [
        "# 한 개 이미지 파일의 변환 결과 확인\n",
        "print(dataset.shape)\n",
        "print(file_labels[40])   # 종속변수\n",
        "\n",
        "display(_Imgdis(filename=folder + \"/\" + file_names[40], width=30, height=40))\n",
        "\n",
        "np.set_printoptions(linewidth=np.inf)   # 너비를 최대한으로 늘림\n",
        "print(dataset[40,:,:,0])"
      ],
      "metadata": {
        "colab": {
          "base_uri": "https://localhost:8080/",
          "height": 604
        },
        "id": "ZpBCB7QApVYx",
        "outputId": "f9bde770-dffc-4207-f50c-687b66b8f1ec"
      },
      "execution_count": null,
      "outputs": [
        {
          "output_type": "stream",
          "name": "stdout",
          "text": [
            "(100, 28, 28, 3)\n",
            "4\n"
          ]
        },
        {
          "output_type": "display_data",
          "data": {
            "image/jpeg": "[encoded data removed]",
            "text/plain": [
              "<IPython.core.display.Image object>"
            ]
          },
          "metadata": {
            "image/jpeg": {
              "width": 30,
              "height": 40
            }
          }
        },
        {
          "output_type": "stream",
          "name": "stdout",
          "text": [
            "[[  0   0   0   0   0   0   0   0   0   3   6   4   0   7   0   5   0   5   8   0   0   4   7   0   0   0   0   0]\n",
            " [  0   0   0   0   0   0   0   0   2   0   0   0  11   0   4   0   1   0   0   0   5   0   0   5   0   0   0   0]\n",
            " [  0   0   0   0   0   0   0   0   0   2  16   5   0   2   2   8   3  13   3   0   9   6   0   2   0   0   0   0]\n",
            " [  0   0   0   0   0   0   0   0  11   1   0   0   0   9   0   0   0   3   0   0   0   0   0   0   0   0   0   0]\n",
            " [  0   0   0   0   0   0   0   0   0  19   0  12   5   0  25   2  12   0   2  10   1   0   0   1   0   0   0   0]\n",
            " [  0   0   0   0   0   0   0   0  19   0  12   0 118 226 117   0   1   0   1   0   0  37  62   9   0   0   0   0]\n",
            " [  0   0   0   0   0   0   0   0   0  25   0 113 233 255 188   0   0   0  22   0  16 179 236  94   0   0   0   0]\n",
            " [  0   0   0   0   0   0   0   0   8   0  16 230 251 236  42   7  14   0   3   0  10 206 255  90   0   0   0   0]\n",
            " [  0   4   1   0   0   1   0   0   1   3   2 220 255 111   0   3   1  11   0   4  31 218 255  57   0   0   0   0]\n",
            " [  0   0   1   1   0   0   0   4   0   3  46 237 227  26  14   0   0   0   0   0 114 255 197   3   0   0   0   0]\n",
            " [  4   0   0   2   0   0   0   1   0  31 225 250 141   0   0  16   2   3  14  43 199 255  95   2   0   0   0   0]\n",
            " [  6   0   0   0   0   2   5   0   0 171 255 234  53   3   1   0   3   0   0  96 245 255  39   3   0   0   0   0]\n",
            " [  0   0   0   0   3   9   4   0  86 255 250  77   0   0  19   3   0   7  26 176 254 185  18   0   0   0   0   0]\n",
            " [  0   3   1   0   2   0   0  16 167 240 228  10  19   0   0   0   0   8 112 255 252  54   0   4   0   0   0   0]\n",
            " [  0   5   0   0   2   0  31 132 255 235  28   1   0   3   6   6   0   9 148 255 209   2   0   3   0   0   0   0]\n",
            " [  0   2   0   0  11   3  98 255 246 109   0   6   7   0   0   0   5 107 251 255 124   0   8   1   0   0   0   0]\n",
            " [  0   0   0   9   0   1 204 251 179   0  13   0   5  39  98 144 255 240 255 210   7   0   8   0   0   0   0   0]\n",
            " [ 10   7   0   0   0   9 201 255 126  10  81 105 181 252 255 252 255 253 245 132  13   4   7   6   0   0   0   0]\n",
            " [  0   8   3   5   1   2 175 255 253 255 255 248 255 242 227 139 244 252 178  21   1   0   0   3   0   0   0   0]\n",
            " [  0   8   0   0   0   9 156 252 246 242 249 224 184  86   1   0 252 255 110   0   8   0   0   3   0   0   0   0]\n",
            " [  0   3   0   5  11   0   0  20  60 133  44   0   2   0  14   5 255 244  43   0  12   0   9   0   0   0   0   0]\n",
            " [  7   3   0   0   6   0   0  10   3   0   0   0  13   1   0 111 244 202   0   2   1   0   5   0   0   0   0   0]\n",
            " [  0   0  11   6   0   1   0   0   0   9   0   8   8   0   9 191 252 180   0   8   3   0   1   5   0   0   0   0]\n",
            " [  8   0   1   0   0  12   2   0   1   0   7   0   0   7   0 206 255 166   3   0   0   3   0  10   0   0   0   0]\n",
            " [  0   0   0   0   0   0   0   0   3   0   0   4   0   0  23  62 250 124   9   0   5   5   0   0   0   0   0   0]\n",
            " [  0   0   0   0   0   0   0   0   3   0   0   4   0   0   0  15  14   0   0   4  10   1   0   4   0   0   0   0]\n",
            " [  0   0   0   0   0   0   0   0   1   0   0   2   1   0   0   0   0   0   4   0   0   0   3   6   0   0   0   0]\n",
            " [  0   0   0   0   0   0   0   0   2   1   0   0   0   4   4   0   7  10   5   0   0   4   2   0   0   0   0   0]]\n"
          ]
        }
      ]
    },
    {
      "cell_type": "code",
      "source": [
        "# 훈련 데이터와 테스트 데이터 분리\n",
        "from sklearn.model_selection import train_test_split\n",
        "\n",
        "# 데이터가 충분히 많으면 층화추출을 하지 않아도 자연스럽게 골고루 분배가 된다. 하지만, 데이터가 적으면 한쪽으로 종속변수 종류가 쏠릴 수 있으므로 이때는 층화추출을 해주는 것이 좋다.\n",
        "train_images, test_iamges, train_labels, test_labels = train_test_split(dataset, file_labels, test_size=0.2, stratify=file_labels)   # stratify 뒤에는 종속변수 옴.  ///\n",
        "print(\"Train set size: {0}, Test set size: {1}\".format(len(train_images), len(test_images)))"
      ],
      "metadata": {
        "colab": {
          "base_uri": "https://localhost:8080/"
        },
        "id": "Bi82bgNWsyYi",
        "outputId": "76b2da56-d7c7-47ea-a641-ee99358ce4c7"
      },
      "execution_count": null,
      "outputs": [
        {
          "output_type": "stream",
          "name": "stdout",
          "text": [
            "Train set size: 80, Test set size: 20\n"
          ]
        }
      ]
    },
    {
      "cell_type": "code",
      "source": [
        "# 모델 설계\n",
        "from keras import models\n",
        "from keras import layers\n",
        "import numpy as np\n",
        "\n",
        "model = models.Sequential()\n",
        "model.add(layers.Input(shape=(28,28,3)))\n",
        "model.add(layers.Conv2D(32, (3,3), activation='relu'))\n",
        "model.add(layers.Conv2D(64, (3,3), activation='relu'))\n",
        "model.add(layers.MaxPooling2D(pool_size=2))\n",
        "model.add(layers.Flatten())\n",
        "model.add(layers.Dense(128, activation='relu'))\n",
        "model.add(layers.Dropout(0.25))\n",
        "model.add(layers.Dense(10, activation='softmax'))\n",
        "\n",
        "model.summary()"
      ],
      "metadata": {
        "colab": {
          "base_uri": "https://localhost:8080/",
          "height": 353
        },
        "id": "M9b8g5V6vbDO",
        "outputId": "613a3687-ed55-41e9-ec7a-f8d543994ae0"
      },
      "execution_count": null,
      "outputs": [
        {
          "output_type": "display_data",
          "data": {
            "text/plain": [
              "\u001b[1mModel: \"sequential_4\"\u001b[0m\n"
            ],
            "text/html": [
              "<pre style=\"white-space:pre;overflow-x:auto;line-height:normal;font-family:Menlo,'DejaVu Sans Mono',consolas,'Courier New',monospace\"><span style=\"font-weight: bold\">Model: \"sequential_4\"</span>\n",
              "</pre>\n"
            ]
          },
          "metadata": {}
        },
        {
          "output_type": "display_data",
          "data": {
            "text/plain": [
              "┏━━━━━━━━━━━━━━━━━━━━━━━━━━━━━━━━━━━━━━┳━━━━━━━━━━━━━━━━━━━━━━━━━━━━━┳━━━━━━━━━━━━━━━━━┓\n",
              "┃\u001b[1m \u001b[0m\u001b[1mLayer (type)                        \u001b[0m\u001b[1m \u001b[0m┃\u001b[1m \u001b[0m\u001b[1mOutput Shape               \u001b[0m\u001b[1m \u001b[0m┃\u001b[1m \u001b[0m\u001b[1m        Param #\u001b[0m\u001b[1m \u001b[0m┃\n",
              "┡━━━━━━━━━━━━━━━━━━━━━━━━━━━━━━━━━━━━━━╇━━━━━━━━━━━━━━━━━━━━━━━━━━━━━╇━━━━━━━━━━━━━━━━━┩\n",
              "│ conv2d_6 (\u001b[38;5;33mConv2D\u001b[0m)                    │ (\u001b[38;5;45mNone\u001b[0m, \u001b[38;5;34m26\u001b[0m, \u001b[38;5;34m26\u001b[0m, \u001b[38;5;34m32\u001b[0m)          │             \u001b[38;5;34m896\u001b[0m │\n",
              "├──────────────────────────────────────┼─────────────────────────────┼─────────────────┤\n",
              "│ conv2d_7 (\u001b[38;5;33mConv2D\u001b[0m)                    │ (\u001b[38;5;45mNone\u001b[0m, \u001b[38;5;34m24\u001b[0m, \u001b[38;5;34m24\u001b[0m, \u001b[38;5;34m64\u001b[0m)          │          \u001b[38;5;34m18,496\u001b[0m │\n",
              "├──────────────────────────────────────┼─────────────────────────────┼─────────────────┤\n",
              "│ max_pooling2d_3 (\u001b[38;5;33mMaxPooling2D\u001b[0m)       │ (\u001b[38;5;45mNone\u001b[0m, \u001b[38;5;34m12\u001b[0m, \u001b[38;5;34m12\u001b[0m, \u001b[38;5;34m64\u001b[0m)          │               \u001b[38;5;34m0\u001b[0m │\n",
              "├──────────────────────────────────────┼─────────────────────────────┼─────────────────┤\n",
              "│ flatten_3 (\u001b[38;5;33mFlatten\u001b[0m)                  │ (\u001b[38;5;45mNone\u001b[0m, \u001b[38;5;34m9216\u001b[0m)                │               \u001b[38;5;34m0\u001b[0m │\n",
              "├──────────────────────────────────────┼─────────────────────────────┼─────────────────┤\n",
              "│ dense_6 (\u001b[38;5;33mDense\u001b[0m)                      │ (\u001b[38;5;45mNone\u001b[0m, \u001b[38;5;34m128\u001b[0m)                 │       \u001b[38;5;34m1,179,776\u001b[0m │\n",
              "├──────────────────────────────────────┼─────────────────────────────┼─────────────────┤\n",
              "│ dropout_3 (\u001b[38;5;33mDropout\u001b[0m)                  │ (\u001b[38;5;45mNone\u001b[0m, \u001b[38;5;34m128\u001b[0m)                 │               \u001b[38;5;34m0\u001b[0m │\n",
              "├──────────────────────────────────────┼─────────────────────────────┼─────────────────┤\n",
              "│ dense_7 (\u001b[38;5;33mDense\u001b[0m)                      │ (\u001b[38;5;45mNone\u001b[0m, \u001b[38;5;34m10\u001b[0m)                  │           \u001b[38;5;34m1,290\u001b[0m │\n",
              "└──────────────────────────────────────┴─────────────────────────────┴─────────────────┘\n"
            ],
            "text/html": [
              "<pre style=\"white-space:pre;overflow-x:auto;line-height:normal;font-family:Menlo,'DejaVu Sans Mono',consolas,'Courier New',monospace\">┏━━━━━━━━━━━━━━━━━━━━━━━━━━━━━━━━━━━━━━┳━━━━━━━━━━━━━━━━━━━━━━━━━━━━━┳━━━━━━━━━━━━━━━━━┓\n",
              "┃<span style=\"font-weight: bold\"> Layer (type)                         </span>┃<span style=\"font-weight: bold\"> Output Shape                </span>┃<span style=\"font-weight: bold\">         Param # </span>┃\n",
              "┡━━━━━━━━━━━━━━━━━━━━━━━━━━━━━━━━━━━━━━╇━━━━━━━━━━━━━━━━━━━━━━━━━━━━━╇━━━━━━━━━━━━━━━━━┩\n",
              "│ conv2d_6 (<span style=\"color: #0087ff; text-decoration-color: #0087ff\">Conv2D</span>)                    │ (<span style=\"color: #00d7ff; text-decoration-color: #00d7ff\">None</span>, <span style=\"color: #00af00; text-decoration-color: #00af00\">26</span>, <span style=\"color: #00af00; text-decoration-color: #00af00\">26</span>, <span style=\"color: #00af00; text-decoration-color: #00af00\">32</span>)          │             <span style=\"color: #00af00; text-decoration-color: #00af00\">896</span> │\n",
              "├──────────────────────────────────────┼─────────────────────────────┼─────────────────┤\n",
              "│ conv2d_7 (<span style=\"color: #0087ff; text-decoration-color: #0087ff\">Conv2D</span>)                    │ (<span style=\"color: #00d7ff; text-decoration-color: #00d7ff\">None</span>, <span style=\"color: #00af00; text-decoration-color: #00af00\">24</span>, <span style=\"color: #00af00; text-decoration-color: #00af00\">24</span>, <span style=\"color: #00af00; text-decoration-color: #00af00\">64</span>)          │          <span style=\"color: #00af00; text-decoration-color: #00af00\">18,496</span> │\n",
              "├──────────────────────────────────────┼─────────────────────────────┼─────────────────┤\n",
              "│ max_pooling2d_3 (<span style=\"color: #0087ff; text-decoration-color: #0087ff\">MaxPooling2D</span>)       │ (<span style=\"color: #00d7ff; text-decoration-color: #00d7ff\">None</span>, <span style=\"color: #00af00; text-decoration-color: #00af00\">12</span>, <span style=\"color: #00af00; text-decoration-color: #00af00\">12</span>, <span style=\"color: #00af00; text-decoration-color: #00af00\">64</span>)          │               <span style=\"color: #00af00; text-decoration-color: #00af00\">0</span> │\n",
              "├──────────────────────────────────────┼─────────────────────────────┼─────────────────┤\n",
              "│ flatten_3 (<span style=\"color: #0087ff; text-decoration-color: #0087ff\">Flatten</span>)                  │ (<span style=\"color: #00d7ff; text-decoration-color: #00d7ff\">None</span>, <span style=\"color: #00af00; text-decoration-color: #00af00\">9216</span>)                │               <span style=\"color: #00af00; text-decoration-color: #00af00\">0</span> │\n",
              "├──────────────────────────────────────┼─────────────────────────────┼─────────────────┤\n",
              "│ dense_6 (<span style=\"color: #0087ff; text-decoration-color: #0087ff\">Dense</span>)                      │ (<span style=\"color: #00d7ff; text-decoration-color: #00d7ff\">None</span>, <span style=\"color: #00af00; text-decoration-color: #00af00\">128</span>)                 │       <span style=\"color: #00af00; text-decoration-color: #00af00\">1,179,776</span> │\n",
              "├──────────────────────────────────────┼─────────────────────────────┼─────────────────┤\n",
              "│ dropout_3 (<span style=\"color: #0087ff; text-decoration-color: #0087ff\">Dropout</span>)                  │ (<span style=\"color: #00d7ff; text-decoration-color: #00d7ff\">None</span>, <span style=\"color: #00af00; text-decoration-color: #00af00\">128</span>)                 │               <span style=\"color: #00af00; text-decoration-color: #00af00\">0</span> │\n",
              "├──────────────────────────────────────┼─────────────────────────────┼─────────────────┤\n",
              "│ dense_7 (<span style=\"color: #0087ff; text-decoration-color: #0087ff\">Dense</span>)                      │ (<span style=\"color: #00d7ff; text-decoration-color: #00d7ff\">None</span>, <span style=\"color: #00af00; text-decoration-color: #00af00\">10</span>)                  │           <span style=\"color: #00af00; text-decoration-color: #00af00\">1,290</span> │\n",
              "└──────────────────────────────────────┴─────────────────────────────┴─────────────────┘\n",
              "</pre>\n"
            ]
          },
          "metadata": {}
        },
        {
          "output_type": "display_data",
          "data": {
            "text/plain": [
              "\u001b[1m Total params: \u001b[0m\u001b[38;5;34m1,200,458\u001b[0m (4.58 MB)\n"
            ],
            "text/html": [
              "<pre style=\"white-space:pre;overflow-x:auto;line-height:normal;font-family:Menlo,'DejaVu Sans Mono',consolas,'Courier New',monospace\"><span style=\"font-weight: bold\"> Total params: </span><span style=\"color: #00af00; text-decoration-color: #00af00\">1,200,458</span> (4.58 MB)\n",
              "</pre>\n"
            ]
          },
          "metadata": {}
        },
        {
          "output_type": "display_data",
          "data": {
            "text/plain": [
              "\u001b[1m Trainable params: \u001b[0m\u001b[38;5;34m1,200,458\u001b[0m (4.58 MB)\n"
            ],
            "text/html": [
              "<pre style=\"white-space:pre;overflow-x:auto;line-height:normal;font-family:Menlo,'DejaVu Sans Mono',consolas,'Courier New',monospace\"><span style=\"font-weight: bold\"> Trainable params: </span><span style=\"color: #00af00; text-decoration-color: #00af00\">1,200,458</span> (4.58 MB)\n",
              "</pre>\n"
            ]
          },
          "metadata": {}
        },
        {
          "output_type": "display_data",
          "data": {
            "text/plain": [
              "\u001b[1m Non-trainable params: \u001b[0m\u001b[38;5;34m0\u001b[0m (0.00 B)\n"
            ],
            "text/html": [
              "<pre style=\"white-space:pre;overflow-x:auto;line-height:normal;font-family:Menlo,'DejaVu Sans Mono',consolas,'Courier New',monospace\"><span style=\"font-weight: bold\"> Non-trainable params: </span><span style=\"color: #00af00; text-decoration-color: #00af00\">0</span> (0.00 B)\n",
              "</pre>\n"
            ]
          },
          "metadata": {}
        }
      ]
    },
    {
      "cell_type": "code",
      "source": [
        "# 모델 컴파일\n",
        "model.compile(loss='categorical_crossentropy', optimizer='rmsprop', metrics=['acc'])\n",
        "\n",
        "# 데이터 reshape 및 스케일링\n",
        "print(\"before:\", train_images.shape)\n",
        "\n",
        "train_images = train_images.reshape((len(train_images), 28, 28, 3))\n",
        "train_images = train_images.astype('float32') / 255   # 0~1 사이의 값으로 정규화\n",
        "\n",
        "test_images = test_iamges.reshape((len(test_images), 28, 28, 3))\n",
        "test_images = test_images.astype('float32') / 255   # 정규화\n",
        "\n",
        "print(\"after:\", train_images.shape)"
      ],
      "metadata": {
        "colab": {
          "base_uri": "https://localhost:8080/"
        },
        "id": "lRXtx7eNwMj8",
        "outputId": "9d930ad3-deef-48e7-d354-97491128985c"
      },
      "execution_count": null,
      "outputs": [
        {
          "output_type": "stream",
          "name": "stdout",
          "text": [
            "before: (80, 28, 28, 3)\n",
            "after: (80, 28, 28, 3)\n"
          ]
        }
      ]
    },
    {
      "cell_type": "code",
      "source": [
        "# 라벨 원-핫 인코딩\n",
        "from tensorflow.keras.utils import to_categorical\n",
        "\n",
        "train_labels = to_categorical(train_labels)\n",
        "test_labels = to_categorical(test_labels)"
      ],
      "metadata": {
        "id": "OlRNujxN2goe"
      },
      "execution_count": null,
      "outputs": []
    },
    {
      "cell_type": "code",
      "source": [
        "test_labels"
      ],
      "metadata": {
        "colab": {
          "base_uri": "https://localhost:8080/"
        },
        "id": "KDgrZz2w5qzx",
        "outputId": "603efbd7-ae35-4660-c56a-de28c4da79a8"
      },
      "execution_count": null,
      "outputs": [
        {
          "output_type": "execute_result",
          "data": {
            "text/plain": [
              "array([[0., 0., 0., 0., 0., 0., 1., 0., 0., 0.],\n",
              "       [1., 0., 0., 0., 0., 0., 0., 0., 0., 0.],\n",
              "       [0., 0., 0., 1., 0., 0., 0., 0., 0., 0.],\n",
              "       [0., 0., 0., 0., 0., 1., 0., 0., 0., 0.],\n",
              "       [0., 0., 1., 0., 0., 0., 0., 0., 0., 0.],\n",
              "       [0., 0., 0., 0., 0., 0., 0., 0., 1., 0.],\n",
              "       [0., 0., 0., 1., 0., 0., 0., 0., 0., 0.],\n",
              "       [0., 0., 0., 0., 0., 0., 0., 0., 0., 1.],\n",
              "       [1., 0., 0., 0., 0., 0., 0., 0., 0., 0.],\n",
              "       [0., 0., 0., 0., 0., 0., 0., 1., 0., 0.],\n",
              "       [0., 0., 1., 0., 0., 0., 0., 0., 0., 0.],\n",
              "       [0., 0., 0., 0., 0., 0., 0., 1., 0., 0.],\n",
              "       [0., 0., 0., 0., 0., 1., 0., 0., 0., 0.],\n",
              "       [0., 1., 0., 0., 0., 0., 0., 0., 0., 0.],\n",
              "       [0., 0., 0., 0., 0., 0., 1., 0., 0., 0.],\n",
              "       [0., 0., 0., 0., 0., 0., 0., 0., 0., 1.],\n",
              "       [0., 0., 0., 0., 0., 0., 0., 0., 1., 0.],\n",
              "       [0., 1., 0., 0., 0., 0., 0., 0., 0., 0.],\n",
              "       [0., 0., 0., 0., 1., 0., 0., 0., 0., 0.],\n",
              "       [0., 0., 0., 0., 1., 0., 0., 0., 0., 0.]])"
            ]
          },
          "metadata": {},
          "execution_count": 44
        }
      ]
    },
    {
      "cell_type": "code",
      "source": [
        "# 모델 훈련\n",
        "history = model.fit(train_images, train_labels, epochs=5, batch_size=32, validation_data=(test_images, test_labels))"
      ],
      "metadata": {
        "colab": {
          "base_uri": "https://localhost:8080/"
        },
        "id": "IhAqBVCl2sZN",
        "outputId": "993ac771-c1bd-4ea6-ac3c-76c854dc1a86"
      },
      "execution_count": null,
      "outputs": [
        {
          "output_type": "stream",
          "name": "stdout",
          "text": [
            "Epoch 1/5\n",
            "\u001b[1m3/3\u001b[0m \u001b[32m━━━━━━━━━━━━━━━━━━━━\u001b[0m\u001b[37m\u001b[0m \u001b[1m2s\u001b[0m 185ms/step - acc: 0.1250 - loss: 2.4268 - val_acc: 0.3500 - val_loss: 2.1476\n",
            "Epoch 2/5\n",
            "\u001b[1m3/3\u001b[0m \u001b[32m━━━━━━━━━━━━━━━━━━━━\u001b[0m\u001b[37m\u001b[0m \u001b[1m0s\u001b[0m 71ms/step - acc: 0.4672 - loss: 1.8545 - val_acc: 0.4500 - val_loss: 1.7419\n",
            "Epoch 3/5\n",
            "\u001b[1m3/3\u001b[0m \u001b[32m━━━━━━━━━━━━━━━━━━━━\u001b[0m\u001b[37m\u001b[0m \u001b[1m0s\u001b[0m 87ms/step - acc: 0.6594 - loss: 1.0321 - val_acc: 0.4000 - val_loss: 1.5509\n",
            "Epoch 4/5\n",
            "\u001b[1m3/3\u001b[0m \u001b[32m━━━━━━━━━━━━━━━━━━━━\u001b[0m\u001b[37m\u001b[0m \u001b[1m0s\u001b[0m 73ms/step - acc: 0.8148 - loss: 0.7987 - val_acc: 0.7500 - val_loss: 1.0595\n",
            "Epoch 5/5\n",
            "\u001b[1m3/3\u001b[0m \u001b[32m━━━━━━━━━━━━━━━━━━━━\u001b[0m\u001b[37m\u001b[0m \u001b[1m0s\u001b[0m 72ms/step - acc: 0.9547 - loss: 0.3198 - val_acc: 0.7000 - val_loss: 1.1183\n"
          ]
        }
      ]
    },
    {
      "cell_type": "code",
      "source": [
        "# 성능 평가\n",
        "test_loss, test_acc = model.evaluate(test_images, test_labels)\n",
        "print(\"test_acc:\", test_acc)\n",
        "\n",
        "acc = history.history['acc']\n",
        "val_acc = history.history['val_acc']\n",
        "loss = history.history['loss']\n",
        "val_loss = history.history['val_loss']\n",
        "\n",
        "print(\"Validation Accuracy of each epoch:\", val_acc)"
      ],
      "metadata": {
        "colab": {
          "base_uri": "https://localhost:8080/"
        },
        "id": "lyuDXZ8g6dvf",
        "outputId": "78840415-eb03-4353-e9c0-b720fee91fb5"
      },
      "execution_count": null,
      "outputs": [
        {
          "output_type": "stream",
          "name": "stdout",
          "text": [
            "\u001b[1m1/1\u001b[0m \u001b[32m━━━━━━━━━━━━━━━━━━━━\u001b[0m\u001b[37m\u001b[0m \u001b[1m0s\u001b[0m 42ms/step - acc: 0.7000 - loss: 1.1183\n",
            "test_acc: 0.699999988079071\n",
            "Validation Accuracy of each epoch: [0.3499999940395355, 0.44999998807907104, 0.4000000059604645, 0.75, 0.699999988079071]\n"
          ]
        }
      ]
    },
    {
      "cell_type": "code",
      "source": [
        "# 그래프 확인\n",
        "import matplotlib.pyplot as plt\n",
        "epochs = range(1, len(val_acc) + 1)\n",
        "\n",
        "plt.plot(epochs, acc, 'bo', label='Training acc')\n",
        "plt.plot(epochs, val_acc, 'b', label='Validation acc')\n",
        "plt.title('Training and validation accuracy')\n",
        "plt.legend()\n",
        "plt. show()\n",
        "\n",
        "plt.figure()\n",
        "\n",
        "plt.plot(epochs, loss, 'bo', label='Training loss')\n",
        "plt.plot(epochs, val_loss, 'b', label='Validation loss')\n",
        "plt.title('Training and validation loss')\n",
        "plt.legend()\n",
        "plt.show()"
      ],
      "metadata": {
        "colab": {
          "base_uri": "https://localhost:8080/",
          "height": 887
        },
        "id": "mA0QrecA6zJh",
        "outputId": "e2d2f2de-cec2-4056-9cac-264674634eb0"
      },
      "execution_count": null,
      "outputs": [
        {
          "output_type": "display_data",
          "data": {
            "text/plain": [
              "<Figure size 640x480 with 1 Axes>"
            ],
            "image/png": "[encoded data removed]"
          },
          "metadata": {}
        },
        {
          "output_type": "display_data",
          "data": {
            "text/plain": [
              "<Figure size 640x480 with 1 Axes>"
            ],
            "image/png": "[encoded data removed]"
          },
          "metadata": {}
        }
      ]
    },
    {
      "cell_type": "markdown",
      "source": [
        "## Cats and Dogs"
      ],
      "metadata": {
        "id": "LoK8xcaW8Ei2"
      }
    },
    {
      "cell_type": "code",
      "source": [
        "folder = '/content/drive/MyDrive/pytest_img/cats_dogs'\n",
        "files = [f for f in os.listdir(folder) if os.path.isfile(os.path.join(folder,f))]\n",
        "print(\"Working with {0} images\".format(len(files)))"
      ],
      "metadata": {
        "colab": {
          "base_uri": "https://localhost:8080/"
        },
        "id": "Kcg8wddH8HjW",
        "outputId": "1006aff2-cc6f-4721-bef3-7e50b81e6fd5"
      },
      "execution_count": null,
      "outputs": [
        {
          "output_type": "stream",
          "name": "stdout",
          "text": [
            "Working with 60 images\n"
          ]
        }
      ]
    },
    {
      "cell_type": "code",
      "source": [
        "# 이미지 확인\n",
        "\n",
        "# 처음 두 개만 출력\n",
        "for i in range(0,2):\n",
        "  print(files[i])  # 파일명 출력\n",
        "  display(_Imgdis(filename=folder + \"/\" + files[i], width=120, height=160))"
      ],
      "metadata": {
        "colab": {
          "base_uri": "https://localhost:8080/",
          "height": 373
        },
        "id": "393YZAUg-YxY",
        "outputId": "111a4640-26f1-4a64-a230-87c8c8440a83"
      },
      "execution_count": null,
      "outputs": [
        {
          "output_type": "stream",
          "name": "stdout",
          "text": [
            "cat.2.jpg\n"
          ]
        },
        {
          "output_type": "display_data",
          "data": {
            "image/jpeg": "[encoded data removed]",
            "text/plain": [
              "<IPython.core.display.Image object>"
            ]
          },
          "metadata": {
            "image/jpeg": {
              "width": 120,
              "height": 160
            }
          }
        },
        {
          "output_type": "stream",
          "name": "stdout",
          "text": [
            "cat.24.jpg\n"
          ]
        },
        {
          "output_type": "display_data",
          "data": {
            "image/jpeg": "[encoded data removed]",
            "text/plain": [
              "<IPython.core.display.Image object>"
            ]
          },
          "metadata": {
            "image/jpeg": {
              "width": 120,
              "height": 160
            }
          }
        }
      ]
    },
    {
      "cell_type": "code",
      "source": [
        "# 이미지 라벨 추출\n",
        "from tensorflow.keras.preprocessing.image import array_to_img, img_to_array, load_img\n",
        "file_names = []   # 파일명 저장을 위한 빈 리스트 생성\n",
        "file_labels = []  # 파일 labels 저장을 위한 빈 리스트 생성\n",
        "\n",
        "for _file in files:\n",
        "  file_names.append(_file)    # 파일 이름 저장\n",
        "  label_start = 0             # 라벨의 시작 위치\n",
        "  label_end = _file.find(\".\") # 라벨의 끝 위치\n",
        "  label_str = _file[label_start:label_end]   # 라벨 추출 (-> cat 혹은 dog 이 세 개의 음절을 갖고오게 됨)\n",
        "\n",
        "# 파일 이름이 cat이면 0, dog이면 1로 변환하여 저장 (이진 분류이기 때문에 원-핫 인코딩이 필요 없음)\n",
        "  if label_str == \"cat\":\n",
        "    file_labels.append(0)\n",
        "  elif label_str == \"dog\":\n",
        "    file_labels.append(1)\n",
        "  else:\n",
        "    print(\"Error!\")\n",
        "\n",
        "  print(\"Files in folder: %d\" %len(file_names))"
      ],
      "metadata": {
        "colab": {
          "base_uri": "https://localhost:8080/"
        },
        "collapsed": true,
        "id": "RC5rXwmXDifL",
        "outputId": "bd498031-d63f-4ff2-b88b-dcdd2d4cbdf9"
      },
      "execution_count": null,
      "outputs": [
        {
          "output_type": "stream",
          "name": "stdout",
          "text": [
            "Files in folder: 1\n",
            "Files in folder: 2\n",
            "Files in folder: 3\n",
            "Files in folder: 4\n",
            "Files in folder: 5\n",
            "Files in folder: 6\n",
            "Files in folder: 7\n",
            "Files in folder: 8\n",
            "Files in folder: 9\n",
            "Files in folder: 10\n",
            "Files in folder: 11\n",
            "Files in folder: 12\n",
            "Files in folder: 13\n",
            "Files in folder: 14\n",
            "Files in folder: 15\n",
            "Files in folder: 16\n",
            "Files in folder: 17\n",
            "Files in folder: 18\n",
            "Files in folder: 19\n",
            "Files in folder: 20\n",
            "Files in folder: 21\n",
            "Files in folder: 22\n",
            "Files in folder: 23\n",
            "Files in folder: 24\n",
            "Files in folder: 25\n",
            "Files in folder: 26\n",
            "Files in folder: 27\n",
            "Files in folder: 28\n",
            "Files in folder: 29\n",
            "Files in folder: 30\n",
            "Files in folder: 31\n",
            "Files in folder: 32\n",
            "Files in folder: 33\n",
            "Files in folder: 34\n",
            "Files in folder: 35\n",
            "Files in folder: 36\n",
            "Files in folder: 37\n",
            "Files in folder: 38\n",
            "Files in folder: 39\n",
            "Files in folder: 40\n",
            "Files in folder: 41\n",
            "Files in folder: 42\n",
            "Files in folder: 43\n",
            "Files in folder: 44\n",
            "Files in folder: 45\n",
            "Files in folder: 46\n",
            "Files in folder: 47\n",
            "Files in folder: 48\n",
            "Files in folder: 49\n",
            "Files in folder: 50\n",
            "Files in folder: 51\n",
            "Files in folder: 52\n",
            "Files in folder: 53\n",
            "Files in folder: 54\n",
            "Files in folder: 55\n",
            "Files in folder: 56\n",
            "Files in folder: 57\n",
            "Files in folder: 58\n",
            "Files in folder: 59\n",
            "Files in folder: 60\n"
          ]
        }
      ]
    },
    {
      "cell_type": "code",
      "source": [
        "# shape 확인 -> 이미지마다 shape가 제각각임\n",
        "# PIL 파일을 넘파이 배열로 변환하기\n",
        "\n",
        "os.chdir(folder)  # 경로변경\n",
        "\n",
        "# 한개의 파일을 로드한다\n",
        "img = load_img(file_names[0])\n",
        "print(\"Original:\", type(img))  # PIL 형태\n",
        "\n",
        "# PIL 파일을 넘파일 배열로 변환\n",
        "img_array = img_to_array(img)\n",
        "\n",
        "print(\"Numpy array info:\")\n",
        "print(type(img_array))\n",
        "print(\"type:\", img_array.dtype)\n",
        "print(\"shsape:\", img_array.shape)"
      ],
      "metadata": {
        "collapsed": true,
        "colab": {
          "base_uri": "https://localhost:8080/"
        },
        "id": "-__t-G34F18q",
        "outputId": "0ef3d489-30d5-4457-a4ab-9dc552ab3452"
      },
      "execution_count": null,
      "outputs": [
        {
          "output_type": "stream",
          "name": "stdout",
          "text": [
            "Original: <class 'PIL.JpegImagePlugin.JpegImageFile'>\n",
            "Numpy array info:\n",
            "<class 'numpy.ndarray'>\n",
            "type: float32\n",
            "shsape: (396, 312, 3)\n"
          ]
        }
      ]
    },
    {
      "cell_type": "code",
      "source": [
        "# 다른 한개의 파일을 로드한다\n",
        "img = load_img(file_names[1])\n",
        "print(\"Original:\", type(img))  # PIL 형태\n",
        "\n",
        "# PIL 파일을 넘파일 배열로 변환\n",
        "img_array = img_to_array(img)\n",
        "\n",
        "print(\"Numpy array info:\")\n",
        "print(type(img_array))\n",
        "print(\"type:\", img_array.dtype)\n",
        "print(\"shsape:\", img_array.shape)"
      ],
      "metadata": {
        "colab": {
          "base_uri": "https://localhost:8080/"
        },
        "id": "GpmsVP7wHZPw",
        "outputId": "98cb4d06-63b8-4c82-aebe-023a404b7f76"
      },
      "execution_count": null,
      "outputs": [
        {
          "output_type": "stream",
          "name": "stdout",
          "text": [
            "Original: <class 'PIL.JpegImagePlugin.JpegImageFile'>\n",
            "Numpy array info:\n",
            "<class 'numpy.ndarray'>\n",
            "type: float32\n",
            "shsape: (374, 500, 3)\n"
          ]
        }
      ]
    },
    {
      "cell_type": "code",
      "source": [
        "# 이미지 shape 통일\n",
        "# 모든 이미지의 size를 20*20에 맞추기로 한다\n",
        "\n",
        "image_height = 20\n",
        "image_width = 20\n",
        "channels = 3\n",
        "\n",
        "# (batch_size, 20, 20, 3)을 담을 수 있는 dataset 변수 준비 (batch_size는 전체 데이터 개수)\n",
        "dataset = np.ndarray(shape=(len(file_names), image_height, image_width, channels), dtype=np.int32)\n",
        "\n",
        "print(dataset.shape)"
      ],
      "metadata": {
        "colab": {
          "base_uri": "https://localhost:8080/"
        },
        "id": "uTjyEd1nHdYt",
        "outputId": "c2beb687-44e3-4ab2-c044-ce795e6f0007"
      },
      "execution_count": null,
      "outputs": [
        {
          "output_type": "stream",
          "name": "stdout",
          "text": [
            "(60, 20, 20, 3)\n"
          ]
        }
      ]
    },
    {
      "cell_type": "code",
      "source": [
        "# 새 디렉토리 생성\n",
        "# 사이즈가 조절된 이미지를 저장할 디렉토리를 생성한다\n",
        "import os\n",
        "\n",
        "if not os.path.exists(os.path.join(folder,'new/')):\n",
        "  os.makedirs(os.path.join(folder,'new/'))  # 만약에 new 디렉토리가 없으면, new 디렉토리를 만들어라"
      ],
      "metadata": {
        "id": "iGOiZFC5Iqfb"
      },
      "execution_count": null,
      "outputs": []
    },
    {
      "cell_type": "code",
      "source": [
        "# 모든 파일 크기 조절 (PIL 파일에 대하여 resize()로 크기를 변경)\n",
        "# reshape()는 실제 데이트 크기를 변경하는 것이 아닌, batich_size만 변경하지만, resize()는 데이터의 크기를 변경\n",
        "from PIL import Image\n",
        "\n",
        "for count, item in enumerate(file_names):\n",
        "  img = load_img(file_names[count])\n",
        "  img = img.resize((20,20), Image.Resampling.LANCZOS)\n",
        "  img.save(fp=os.path.join(folder,'new/'+file_names[count]))"
      ],
      "metadata": {
        "id": "_jU71zwfI_5t"
      },
      "execution_count": null,
      "outputs": []
    },
    {
      "cell_type": "code",
      "source": [
        "# (크기 조절된 파일을)넘파일 배열로 변환\n",
        "for count, item in enumerate(file_names):\n",
        "  img = load_img(os.path.join(folder,'new/')+file_names[count])\n",
        "  img_array = img_to_array(img)\n",
        "  dataset[count] = img_array\n",
        "\n",
        "  if count % 500 == 0:\n",
        "    print(f\"{count} images to array\")\n",
        "\n",
        "print(\"모든 이미지가 배열로 변환되었습니다\")"
      ],
      "metadata": {
        "colab": {
          "base_uri": "https://localhost:8080/"
        },
        "id": "5U4hOJxEKzFQ",
        "outputId": "2dd90515-6bf1-4da9-92ad-6e83a197cd95"
      },
      "execution_count": null,
      "outputs": [
        {
          "output_type": "stream",
          "name": "stdout",
          "text": [
            "0 images to array\n",
            "모든 이미지가 배열로 변환되었습니다\n"
          ]
        }
      ]
    },
    {
      "cell_type": "code",
      "source": [
        "# 변환 결과 이미지 확인\n",
        "print(dataset.shape)\n",
        "print(file_labels[30])\n",
        "\n",
        "display(_Imgdis(filename=os.path.join(folder,'new') + \"/\" + files[30], width=100, height=100))"
      ],
      "metadata": {
        "id": "zPIktmBtLlm4",
        "colab": {
          "base_uri": "https://localhost:8080/",
          "height": 153
        },
        "outputId": "f7064b5d-7cf8-4bd7-f708-f62f22cf22f5"
      },
      "execution_count": null,
      "outputs": [
        {
          "output_type": "stream",
          "name": "stdout",
          "text": [
            "(60, 20, 20, 3)\n",
            "1\n"
          ]
        },
        {
          "output_type": "display_data",
          "data": {
            "image/jpeg": "[encoded data removed]",
            "text/plain": [
              "<IPython.core.display.Image object>"
            ]
          },
          "metadata": {
            "image/jpeg": {
              "width": 100,
              "height": 100
            }
          }
        }
      ]
    },
    {
      "cell_type": "code",
      "source": [
        "# 변환 결과 넘파이 배열 확인\n",
        "np.set_printoptions(linewidth=np.inf)\n",
        "print(dataset[30,:,:,0])   # 30번째 파일의 첫 번째 channel"
      ],
      "metadata": {
        "colab": {
          "base_uri": "https://localhost:8080/"
        },
        "collapsed": true,
        "id": "3-EaDU6DN5Gm",
        "outputId": "7633d7f7-060a-4809-9648-6b30003bd1cf"
      },
      "execution_count": null,
      "outputs": [
        {
          "output_type": "stream",
          "name": "stdout",
          "text": [
            "[[123 137 119 142 100  45 101 131 126 151 132 140 149 122 134 152 137 135 134 134]\n",
            " [148 164 161 153 156 175 166 103  85 103 103 112 133 143 139 119 134 133 132 132]\n",
            " [191 163 190 195 179 189 167 125 161  85  64  85 108 136 144 136 132 130 131 130]\n",
            " [177 194 173 177 199 126 109 252 190  74  55  69  61  87 116 141 130 129 130 130]\n",
            " [186 174 166 174 121  54 125 255 113  65  90  83  41  60  95 116 131 131 130 129]\n",
            " [176 178 175 165  88  40 135 252 134  87  88  90  62  57  80 107 132 132 131 130]\n",
            " [186 149 196 169  63  94 204 248 224 153  87  86  78  44  53  88 132 132 131 130]\n",
            " [192 186 196  90  45 139 181 186 254 236 156 119  99  54  51  65 130 131 130 130]\n",
            " [187 203 200  92 121 142  40 123 227 255 251 173 198  96  75  83 114 139 120 140]\n",
            " [197 197 223 138 120 148  95 131 225 225 227 220 225  81  51  97 130 156 131 134]\n",
            " [210 191 193 142 135 176 160 167 214 218 224 229 222 135 130 169 144 174 144 128]\n",
            " [196 208 210 207 235 237 203 204 220 240 236 225 206 198 222 231 190 219 195 162]\n",
            " [201 203 201 212 219 207 219 245 248 245 236 241 212 207 227 231 183 207 209 184]\n",
            " [197 167 196 242 225 219 242 228 253 243 234 238 214 209 234 230 166 174 199 187]\n",
            " [204 155 163 189 193 220 244 224 240 245 238 225 210 217 250 237 200 180 214 200]\n",
            " [193 196 195 193 221 235 224 229 232 233 240 234 224 203 231 225 179 143 190 190]\n",
            " [201 207 215 224 230 231 225 219 209 198 203 219 214 191 184 190 150 128 170 153]\n",
            " [207 210 211 205 197 192 187 182 175 164 167 188 209 214 216 215 147 116 148 120]\n",
            " [197 202 198 188 179 180 183 183 182 164 149 155 182 200 202 183  99  71 111  96]\n",
            " [184 188 187 180 183 193 203 203 202 183 151 135 152 176 168 135  82  57 105 100]]\n"
          ]
        }
      ]
    },
    {
      "cell_type": "code",
      "source": [
        "# 훈련 데이터와 테스트 데이터 분리\n",
        "from sklearn.model_selection import train_test_split\n",
        "\n",
        "train_images, test_images, train_labels, test_labels = train_test_split(dataset, file_labels, test_size=0.2, stratify=file_labels)\n",
        "print(\"Train set size: {0}, Test set size: {1}\".format(len(train_images), len(test_images)))"
      ],
      "metadata": {
        "colab": {
          "base_uri": "https://localhost:8080/"
        },
        "id": "6EFzHSPUOHRg",
        "outputId": "ee409928-1cda-4020-a788-76e32beefbd2"
      },
      "execution_count": null,
      "outputs": [
        {
          "output_type": "stream",
          "name": "stdout",
          "text": [
            "Train set size: 48, Test set size: 12\n"
          ]
        }
      ]
    },
    {
      "cell_type": "code",
      "source": [
        "# 모델 설계\n",
        "from tensorflow.keras import models\n",
        "from tensorflow.keras import layers\n",
        "import numpy as np\n",
        "\n",
        "model = models.Sequential()\n",
        "model.add(layers.Input(shape=(20,20,3)))\n",
        "model.add(layers.Conv2D(32, kernel_size=(3,3), activation='relu'))\n",
        "model.add(layers.Conv2D(64, kernel_size=(3,3), activation='relu'))\n",
        "model.add(layers.MaxPooling2D(pool_size=2))\n",
        "model.add(layers.Flatten())\n",
        "model.add(layers.Dense(128, activation='relu'))\n",
        "model.add(layers.Dropout(0.25))\n",
        "model.add(layers.Dense(1, activation='sigmoid'))   # 이진분류 -> 출력층 1개, 활성화함수 = sigmoid\n",
        "\n",
        "model.summary()"
      ],
      "metadata": {
        "colab": {
          "base_uri": "https://localhost:8080/",
          "height": 353
        },
        "id": "jQFo5CP3Okkz",
        "outputId": "0b08aab5-2934-48f0-f1f5-f547efd4442b"
      },
      "execution_count": null,
      "outputs": [
        {
          "output_type": "display_data",
          "data": {
            "text/plain": [
              "\u001b[1mModel: \"sequential_6\"\u001b[0m\n"
            ],
            "text/html": [
              "<pre style=\"white-space:pre;overflow-x:auto;line-height:normal;font-family:Menlo,'DejaVu Sans Mono',consolas,'Courier New',monospace\"><span style=\"font-weight: bold\">Model: \"sequential_6\"</span>\n",
              "</pre>\n"
            ]
          },
          "metadata": {}
        },
        {
          "output_type": "display_data",
          "data": {
            "text/plain": [
              "┏━━━━━━━━━━━━━━━━━━━━━━━━━━━━━━━━━━━━━━┳━━━━━━━━━━━━━━━━━━━━━━━━━━━━━┳━━━━━━━━━━━━━━━━━┓\n",
              "┃\u001b[1m \u001b[0m\u001b[1mLayer (type)                        \u001b[0m\u001b[1m \u001b[0m┃\u001b[1m \u001b[0m\u001b[1mOutput Shape               \u001b[0m\u001b[1m \u001b[0m┃\u001b[1m \u001b[0m\u001b[1m        Param #\u001b[0m\u001b[1m \u001b[0m┃\n",
              "┡━━━━━━━━━━━━━━━━━━━━━━━━━━━━━━━━━━━━━━╇━━━━━━━━━━━━━━━━━━━━━━━━━━━━━╇━━━━━━━━━━━━━━━━━┩\n",
              "│ conv2d_10 (\u001b[38;5;33mConv2D\u001b[0m)                   │ (\u001b[38;5;45mNone\u001b[0m, \u001b[38;5;34m18\u001b[0m, \u001b[38;5;34m18\u001b[0m, \u001b[38;5;34m32\u001b[0m)          │             \u001b[38;5;34m896\u001b[0m │\n",
              "├──────────────────────────────────────┼─────────────────────────────┼─────────────────┤\n",
              "│ conv2d_11 (\u001b[38;5;33mConv2D\u001b[0m)                   │ (\u001b[38;5;45mNone\u001b[0m, \u001b[38;5;34m16\u001b[0m, \u001b[38;5;34m16\u001b[0m, \u001b[38;5;34m64\u001b[0m)          │          \u001b[38;5;34m18,496\u001b[0m │\n",
              "├──────────────────────────────────────┼─────────────────────────────┼─────────────────┤\n",
              "│ max_pooling2d_5 (\u001b[38;5;33mMaxPooling2D\u001b[0m)       │ (\u001b[38;5;45mNone\u001b[0m, \u001b[38;5;34m8\u001b[0m, \u001b[38;5;34m8\u001b[0m, \u001b[38;5;34m64\u001b[0m)            │               \u001b[38;5;34m0\u001b[0m │\n",
              "├──────────────────────────────────────┼─────────────────────────────┼─────────────────┤\n",
              "│ flatten_5 (\u001b[38;5;33mFlatten\u001b[0m)                  │ (\u001b[38;5;45mNone\u001b[0m, \u001b[38;5;34m4096\u001b[0m)                │               \u001b[38;5;34m0\u001b[0m │\n",
              "├──────────────────────────────────────┼─────────────────────────────┼─────────────────┤\n",
              "│ dense_8 (\u001b[38;5;33mDense\u001b[0m)                      │ (\u001b[38;5;45mNone\u001b[0m, \u001b[38;5;34m128\u001b[0m)                 │         \u001b[38;5;34m524,416\u001b[0m │\n",
              "├──────────────────────────────────────┼─────────────────────────────┼─────────────────┤\n",
              "│ dropout_4 (\u001b[38;5;33mDropout\u001b[0m)                  │ (\u001b[38;5;45mNone\u001b[0m, \u001b[38;5;34m128\u001b[0m)                 │               \u001b[38;5;34m0\u001b[0m │\n",
              "├──────────────────────────────────────┼─────────────────────────────┼─────────────────┤\n",
              "│ dense_9 (\u001b[38;5;33mDense\u001b[0m)                      │ (\u001b[38;5;45mNone\u001b[0m, \u001b[38;5;34m1\u001b[0m)                   │             \u001b[38;5;34m129\u001b[0m │\n",
              "└──────────────────────────────────────┴─────────────────────────────┴─────────────────┘\n"
            ],
            "text/html": [
              "<pre style=\"white-space:pre;overflow-x:auto;line-height:normal;font-family:Menlo,'DejaVu Sans Mono',consolas,'Courier New',monospace\">┏━━━━━━━━━━━━━━━━━━━━━━━━━━━━━━━━━━━━━━┳━━━━━━━━━━━━━━━━━━━━━━━━━━━━━┳━━━━━━━━━━━━━━━━━┓\n",
              "┃<span style=\"font-weight: bold\"> Layer (type)                         </span>┃<span style=\"font-weight: bold\"> Output Shape                </span>┃<span style=\"font-weight: bold\">         Param # </span>┃\n",
              "┡━━━━━━━━━━━━━━━━━━━━━━━━━━━━━━━━━━━━━━╇━━━━━━━━━━━━━━━━━━━━━━━━━━━━━╇━━━━━━━━━━━━━━━━━┩\n",
              "│ conv2d_10 (<span style=\"color: #0087ff; text-decoration-color: #0087ff\">Conv2D</span>)                   │ (<span style=\"color: #00d7ff; text-decoration-color: #00d7ff\">None</span>, <span style=\"color: #00af00; text-decoration-color: #00af00\">18</span>, <span style=\"color: #00af00; text-decoration-color: #00af00\">18</span>, <span style=\"color: #00af00; text-decoration-color: #00af00\">32</span>)          │             <span style=\"color: #00af00; text-decoration-color: #00af00\">896</span> │\n",
              "├──────────────────────────────────────┼─────────────────────────────┼─────────────────┤\n",
              "│ conv2d_11 (<span style=\"color: #0087ff; text-decoration-color: #0087ff\">Conv2D</span>)                   │ (<span style=\"color: #00d7ff; text-decoration-color: #00d7ff\">None</span>, <span style=\"color: #00af00; text-decoration-color: #00af00\">16</span>, <span style=\"color: #00af00; text-decoration-color: #00af00\">16</span>, <span style=\"color: #00af00; text-decoration-color: #00af00\">64</span>)          │          <span style=\"color: #00af00; text-decoration-color: #00af00\">18,496</span> │\n",
              "├──────────────────────────────────────┼─────────────────────────────┼─────────────────┤\n",
              "│ max_pooling2d_5 (<span style=\"color: #0087ff; text-decoration-color: #0087ff\">MaxPooling2D</span>)       │ (<span style=\"color: #00d7ff; text-decoration-color: #00d7ff\">None</span>, <span style=\"color: #00af00; text-decoration-color: #00af00\">8</span>, <span style=\"color: #00af00; text-decoration-color: #00af00\">8</span>, <span style=\"color: #00af00; text-decoration-color: #00af00\">64</span>)            │               <span style=\"color: #00af00; text-decoration-color: #00af00\">0</span> │\n",
              "├──────────────────────────────────────┼─────────────────────────────┼─────────────────┤\n",
              "│ flatten_5 (<span style=\"color: #0087ff; text-decoration-color: #0087ff\">Flatten</span>)                  │ (<span style=\"color: #00d7ff; text-decoration-color: #00d7ff\">None</span>, <span style=\"color: #00af00; text-decoration-color: #00af00\">4096</span>)                │               <span style=\"color: #00af00; text-decoration-color: #00af00\">0</span> │\n",
              "├──────────────────────────────────────┼─────────────────────────────┼─────────────────┤\n",
              "│ dense_8 (<span style=\"color: #0087ff; text-decoration-color: #0087ff\">Dense</span>)                      │ (<span style=\"color: #00d7ff; text-decoration-color: #00d7ff\">None</span>, <span style=\"color: #00af00; text-decoration-color: #00af00\">128</span>)                 │         <span style=\"color: #00af00; text-decoration-color: #00af00\">524,416</span> │\n",
              "├──────────────────────────────────────┼─────────────────────────────┼─────────────────┤\n",
              "│ dropout_4 (<span style=\"color: #0087ff; text-decoration-color: #0087ff\">Dropout</span>)                  │ (<span style=\"color: #00d7ff; text-decoration-color: #00d7ff\">None</span>, <span style=\"color: #00af00; text-decoration-color: #00af00\">128</span>)                 │               <span style=\"color: #00af00; text-decoration-color: #00af00\">0</span> │\n",
              "├──────────────────────────────────────┼─────────────────────────────┼─────────────────┤\n",
              "│ dense_9 (<span style=\"color: #0087ff; text-decoration-color: #0087ff\">Dense</span>)                      │ (<span style=\"color: #00d7ff; text-decoration-color: #00d7ff\">None</span>, <span style=\"color: #00af00; text-decoration-color: #00af00\">1</span>)                   │             <span style=\"color: #00af00; text-decoration-color: #00af00\">129</span> │\n",
              "└──────────────────────────────────────┴─────────────────────────────┴─────────────────┘\n",
              "</pre>\n"
            ]
          },
          "metadata": {}
        },
        {
          "output_type": "display_data",
          "data": {
            "text/plain": [
              "\u001b[1m Total params: \u001b[0m\u001b[38;5;34m543,937\u001b[0m (2.07 MB)\n"
            ],
            "text/html": [
              "<pre style=\"white-space:pre;overflow-x:auto;line-height:normal;font-family:Menlo,'DejaVu Sans Mono',consolas,'Courier New',monospace\"><span style=\"font-weight: bold\"> Total params: </span><span style=\"color: #00af00; text-decoration-color: #00af00\">543,937</span> (2.07 MB)\n",
              "</pre>\n"
            ]
          },
          "metadata": {}
        },
        {
          "output_type": "display_data",
          "data": {
            "text/plain": [
              "\u001b[1m Trainable params: \u001b[0m\u001b[38;5;34m543,937\u001b[0m (2.07 MB)\n"
            ],
            "text/html": [
              "<pre style=\"white-space:pre;overflow-x:auto;line-height:normal;font-family:Menlo,'DejaVu Sans Mono',consolas,'Courier New',monospace\"><span style=\"font-weight: bold\"> Trainable params: </span><span style=\"color: #00af00; text-decoration-color: #00af00\">543,937</span> (2.07 MB)\n",
              "</pre>\n"
            ]
          },
          "metadata": {}
        },
        {
          "output_type": "display_data",
          "data": {
            "text/plain": [
              "\u001b[1m Non-trainable params: \u001b[0m\u001b[38;5;34m0\u001b[0m (0.00 B)\n"
            ],
            "text/html": [
              "<pre style=\"white-space:pre;overflow-x:auto;line-height:normal;font-family:Menlo,'DejaVu Sans Mono',consolas,'Courier New',monospace\"><span style=\"font-weight: bold\"> Non-trainable params: </span><span style=\"color: #00af00; text-decoration-color: #00af00\">0</span> (0.00 B)\n",
              "</pre>\n"
            ]
          },
          "metadata": {}
        }
      ]
    },
    {
      "cell_type": "code",
      "source": [
        "# 모델 컴파일\n",
        "model.compile(loss='binary_crossentropy', optimizer='rmsprop', metrics=['acc'])\n",
        "\n",
        "# 데이터 reshape 및 스케일링\n",
        "print(\"before:\", train_images.shape)\n",
        "\n",
        "train_images = train_images.reshape((len(train_images),20,20,3))\n",
        "train_images = train_images.astype('float32')/255  # 데이터 정규화\n",
        "\n",
        "test_images = test_images.reshape((len(test_images),20,20,3))\n",
        "test_images = test_images.astype('float32')/255  # 데이터 정규화\n",
        "\n",
        "print(\"after:\", train_images.shape)"
      ],
      "metadata": {
        "colab": {
          "base_uri": "https://localhost:8080/"
        },
        "id": "DF1Rr394PRk9",
        "outputId": "d2af3218-3b11-483e-e80e-45a8d3e4c7a5"
      },
      "execution_count": null,
      "outputs": [
        {
          "output_type": "stream",
          "name": "stdout",
          "text": [
            "before: (48, 20, 20, 3)\n",
            "after: (48, 20, 20, 3)\n"
          ]
        }
      ]
    },
    {
      "cell_type": "code",
      "source": [
        "# 데이터 확인\n",
        "train_images"
      ],
      "metadata": {
        "collapsed": true,
        "colab": {
          "base_uri": "https://localhost:8080/"
        },
        "id": "ROzQwG-iPnYN",
        "outputId": "2b5ecfd5-7d58-4ed3-b084-9abc4a95ff11"
      },
      "execution_count": null,
      "outputs": [
        {
          "output_type": "execute_result",
          "data": {
            "text/plain": [
              "array([[[[6.15148019e-06, 5.78962863e-06, 2.17111074e-06],\n",
              "         [6.69425799e-06, 6.33240597e-06, 2.71388831e-06],\n",
              "         [6.99580096e-06, 6.75456658e-06, 3.07574010e-06],\n",
              "         ...,\n",
              "         [1.07952446e-05, 1.12174048e-05, 8.08135701e-06],\n",
              "         [1.07349360e-05, 1.11570962e-05, 8.02104842e-06],\n",
              "         [1.07349360e-05, 1.11570962e-05, 8.02104842e-06]],\n",
              "\n",
              "        [[7.84012263e-06, 7.47827016e-06, 3.85975272e-06],\n",
              "         [7.90043123e-06, 7.53857876e-06, 3.92006132e-06],\n",
              "         [7.05611001e-06, 6.81487518e-06, 3.13604869e-06],\n",
              "         ...,\n",
              "         [1.10967876e-05, 1.15189487e-05, 8.38289998e-06],\n",
              "         [1.09761704e-05, 1.13983306e-05, 8.26228279e-06],\n",
              "         [1.09158618e-05, 1.13380220e-05, 8.20197420e-06]],\n",
              "\n",
              "        [[8.98598682e-06, 8.68444295e-06, 5.18654224e-06],\n",
              "         [1.07952446e-05, 1.04937017e-05, 6.99580096e-06],\n",
              "         [1.16998744e-05, 1.13983306e-05, 7.90043123e-06],\n",
              "         ...,\n",
              "         [1.10967876e-05, 1.15189487e-05, 8.38289998e-06],\n",
              "         [1.09158618e-05, 1.13380220e-05, 8.20197420e-06],\n",
              "         [1.08555532e-05, 1.12777134e-05, 8.14166560e-06]],\n",
              "\n",
              "        ...,\n",
              "\n",
              "        [[5.54839380e-06, 5.54839380e-06, 3.98036991e-06],\n",
              "         [5.48808521e-06, 5.54839380e-06, 3.67882649e-06],\n",
              "         [6.45302362e-06, 6.57364080e-06, 4.34222147e-06],\n",
              "         ...,\n",
              "         [8.80506013e-06, 9.10660401e-06, 5.84993722e-06],\n",
              "         [8.08135701e-06, 8.32259138e-06, 5.24685083e-06],\n",
              "         [7.96073982e-06, 8.26228279e-06, 5.00561646e-06]],\n",
              "\n",
              "        [[4.10098710e-06, 4.10098710e-06, 2.65357971e-06],\n",
              "         [4.22160429e-06, 4.22160429e-06, 2.53296253e-06],\n",
              "         [5.42777661e-06, 5.48808521e-06, 3.43759189e-06],\n",
              "         ...,\n",
              "         [7.84012263e-06, 8.20197420e-06, 5.30715943e-06],\n",
              "         [7.65919594e-06, 8.02104842e-06, 5.24685083e-06],\n",
              "         [7.77981404e-06, 8.14166560e-06, 5.24685083e-06]],\n",
              "\n",
              "        [[4.58345630e-06, 4.58345630e-06, 3.13604869e-06],\n",
              "         [5.48808521e-06, 5.48808521e-06, 3.79944368e-06],\n",
              "         [5.54839380e-06, 5.60870239e-06, 3.67882649e-06],\n",
              "         ...,\n",
              "         [8.02104842e-06, 8.38289998e-06, 5.72931958e-06],\n",
              "         [8.08135701e-06, 8.44320857e-06, 5.78962863e-06],\n",
              "         [8.08135701e-06, 8.44320857e-06, 5.78962863e-06]]],\n",
              "\n",
              "\n",
              "       [[[9.95092432e-06, 1.10967876e-05, 7.11641860e-06],\n",
              "         [9.64938135e-06, 1.07952446e-05, 6.93549237e-06],\n",
              "         [7.59888735e-06, 8.50351717e-06, 4.94530786e-06],\n",
              "         ...,\n",
              "         [4.76438208e-06, 5.24685083e-06, 2.17111074e-06],\n",
              "         [4.40253007e-06, 4.88499927e-06, 1.80925895e-06],\n",
              "         [6.15148019e-06, 6.63394940e-06, 3.55820930e-06]],\n",
              "\n",
              "        [[9.76999854e-06, 1.09158618e-05, 7.05611001e-06],\n",
              "         [9.58907276e-06, 1.06746274e-05, 6.93549237e-06],\n",
              "         [7.23703579e-06, 8.14166560e-06, 4.70407349e-06],\n",
              "         ...,\n",
              "         [3.79944368e-06, 4.28191288e-06, 1.20617267e-06],\n",
              "         [4.76438208e-06, 5.24685083e-06, 2.17111074e-06],\n",
              "         [5.97055441e-06, 6.45302362e-06, 3.37728329e-06]],\n",
              "\n",
              "        [[7.23703579e-06, 8.20197420e-06, 4.46283866e-06],\n",
              "         [9.04629542e-06, 9.95092432e-06, 6.39271457e-06],\n",
              "         [7.90043123e-06, 8.68444295e-06, 5.42777661e-06],\n",
              "         ...,\n",
              "         [4.28191288e-06, 4.76438208e-06, 1.80925895e-06],\n",
              "         [6.15148019e-06, 6.63394940e-06, 3.67882649e-06],\n",
              "         [6.45302362e-06, 6.93549237e-06, 3.98036991e-06]],\n",
              "\n",
              "        ...,\n",
              "\n",
              "        [[6.21178879e-06, 6.03086301e-06, 5.60870239e-06],\n",
              "         [1.04333931e-05, 1.01921587e-05, 9.64938135e-06],\n",
              "         [1.28457386e-05, 1.22426518e-05, 1.16998744e-05],\n",
              "         ...,\n",
              "         [6.93549237e-06, 6.93549237e-06, 4.76438208e-06],\n",
              "         [5.48808521e-06, 5.48808521e-06, 3.31697470e-06],\n",
              "         [6.51333221e-06, 6.51333221e-06, 4.34222147e-06]],\n",
              "\n",
              "        [[1.04333931e-05, 1.02524673e-05, 9.83030714e-06],\n",
              "         [1.21220346e-05, 1.18808002e-05, 1.13380220e-05],\n",
              "         [1.06143189e-05, 1.00112329e-05, 9.46845557e-06],\n",
              "         ...,\n",
              "         [8.68444295e-06, 8.68444295e-06, 6.51333221e-06],\n",
              "         [6.81487518e-06, 6.81487518e-06, 4.64376490e-06],\n",
              "         [6.99580096e-06, 6.99580096e-06, 4.82469068e-06]],\n",
              "\n",
              "        [[1.21823432e-05, 1.20014174e-05, 1.15792573e-05],\n",
              "         [1.09761704e-05, 1.07349360e-05, 1.01921587e-05],\n",
              "         [8.80506013e-06, 8.20197420e-06, 7.65919594e-06],\n",
              "         ...,\n",
              "         [8.14166560e-06, 8.14166560e-06, 5.97055441e-06],\n",
              "         [6.03086301e-06, 6.03086301e-06, 3.85975272e-06],\n",
              "         [5.78962863e-06, 5.78962863e-06, 3.61851789e-06]]],\n",
              "\n",
              "\n",
              "       [[[1.32678988e-05, 1.30869730e-05, 1.19411088e-05],\n",
              "         [1.26648119e-05, 1.24838862e-05, 1.13380220e-05],\n",
              "         [1.31472816e-05, 1.29663558e-05, 1.19411088e-05],\n",
              "         ...,\n",
              "         [1.04333931e-05, 1.01921587e-05, 9.52876417e-06],\n",
              "         [1.01921587e-05, 9.95092432e-06, 9.28752979e-06],\n",
              "         [1.00715415e-05, 9.83030714e-06, 9.16691260e-06]],\n",
              "\n",
              "        [[1.16395659e-05, 1.14586392e-05, 1.04333931e-05],\n",
              "         [1.28457386e-05, 1.26648119e-05, 1.16395659e-05],\n",
              "         [1.23632690e-05, 1.21823432e-05, 1.11570962e-05],\n",
              "         ...,\n",
              "         [1.06143189e-05, 1.03730845e-05, 9.64938135e-06],\n",
              "         [1.03127759e-05, 9.95092432e-06, 9.22722120e-06],\n",
              "         [9.95092432e-06, 9.70968995e-06, 8.98598682e-06]],\n",
              "\n",
              "        [[1.20014174e-05, 1.18808002e-05, 1.09761704e-05],\n",
              "         [1.22426518e-05, 1.21220346e-05, 1.12174048e-05],\n",
              "         [1.24838862e-05, 1.23029604e-05, 1.13983306e-05],\n",
              "         ...,\n",
              "         [1.12777134e-05, 1.09158618e-05, 1.00715415e-05],\n",
              "         [1.07349360e-05, 1.02524673e-05, 9.46845557e-06],\n",
              "         [1.02524673e-05, 9.89061573e-06, 9.04629542e-06]],\n",
              "\n",
              "        ...,\n",
              "\n",
              "        [[1.01921587e-05, 1.09158618e-05, 1.07952446e-05],\n",
              "         [9.89061573e-06, 1.06143189e-05, 1.04937017e-05],\n",
              "         [9.70968995e-06, 1.05540103e-05, 1.06143189e-05],\n",
              "         ...,\n",
              "         [8.44320857e-06, 8.98598682e-06, 8.92567732e-06],\n",
              "         [9.58907276e-06, 1.01318501e-05, 1.00715415e-05],\n",
              "         [1.00112329e-05, 1.05540103e-05, 1.04937017e-05]],\n",
              "\n",
              "        [[9.83030714e-06, 1.05540103e-05, 1.04333931e-05],\n",
              "         [9.58907276e-06, 1.03127759e-05, 1.01921587e-05],\n",
              "         [9.40814698e-06, 1.02524673e-05, 1.03127759e-05],\n",
              "         ...,\n",
              "         [1.02524673e-05, 1.07952446e-05, 1.07349360e-05],\n",
              "         [1.05540103e-05, 1.10967876e-05, 1.10364790e-05],\n",
              "         [1.04937017e-05, 1.10364790e-05, 1.09761704e-05]],\n",
              "\n",
              "        [[9.64938135e-06, 1.03730845e-05, 1.02524673e-05],\n",
              "         [9.40814698e-06, 1.01318501e-05, 1.00112329e-05],\n",
              "         [9.22722120e-06, 1.00715415e-05, 1.01318501e-05],\n",
              "         ...,\n",
              "         [9.95092432e-06, 1.04937017e-05, 1.04333931e-05],\n",
              "         [9.83030714e-06, 1.03730845e-05, 1.03127759e-05],\n",
              "         [9.64938135e-06, 1.01921587e-05, 1.01318501e-05]]],\n",
              "\n",
              "\n",
              "       ...,\n",
              "\n",
              "\n",
              "       [[[1.74895024e-06, 1.68864165e-06, 1.56802435e-06],\n",
              "         [2.05049355e-06, 1.99018496e-06, 1.86956754e-06],\n",
              "         [2.95512291e-06, 2.89481432e-06, 2.77419690e-06],\n",
              "         ...,\n",
              "         [9.10660401e-06, 9.22722120e-06, 8.92567732e-06],\n",
              "         [1.06746274e-05, 1.07952446e-05, 1.04937017e-05],\n",
              "         [1.06143189e-05, 1.07349360e-05, 1.04333931e-05]],\n",
              "\n",
              "        [[1.62833305e-06, 1.56802435e-06, 1.44740716e-06],\n",
              "         [1.44740716e-06, 1.38709845e-06, 1.26648126e-06],\n",
              "         [2.95512291e-06, 2.89481432e-06, 2.77419690e-06],\n",
              "         ...,\n",
              "         [9.10660401e-06, 9.22722120e-06, 8.92567732e-06],\n",
              "         [1.07349360e-05, 1.08555532e-05, 1.05540103e-05],\n",
              "         [1.06143189e-05, 1.07349360e-05, 1.04333931e-05]],\n",
              "\n",
              "        [[2.47265393e-06, 2.41234534e-06, 2.29172815e-06],\n",
              "         [2.05049355e-06, 1.99018496e-06, 1.86956754e-06],\n",
              "         [4.40253007e-06, 4.34222147e-06, 4.22160429e-06],\n",
              "         ...,\n",
              "         [8.98598682e-06, 9.04629542e-06, 8.74475154e-06],\n",
              "         [1.06746274e-05, 1.07349360e-05, 1.04333931e-05],\n",
              "         [1.06143189e-05, 1.06746274e-05, 1.03730845e-05]],\n",
              "\n",
              "        ...,\n",
              "\n",
              "        [[3.37728329e-06, 3.37728329e-06, 3.25666610e-06],\n",
              "         [2.89481432e-06, 2.89481432e-06, 2.77419690e-06],\n",
              "         [2.83450549e-06, 2.83450549e-06, 2.71388831e-06],\n",
              "         ...,\n",
              "         [1.27854291e-05, 1.27251205e-05, 1.26045034e-05],\n",
              "         [1.45343802e-05, 1.44740716e-05, 1.43534544e-05],\n",
              "         [1.08555532e-05, 1.07952446e-05, 1.06746274e-05]],\n",
              "\n",
              "        [[1.13983306e-05, 1.13983306e-05, 1.12777134e-05],\n",
              "         [9.40814698e-06, 9.40814698e-06, 9.28752979e-06],\n",
              "         [7.17672719e-06, 7.17672719e-06, 7.05611001e-06],\n",
              "         ...,\n",
              "         [1.38709847e-05, 1.38106761e-05, 1.36900589e-05],\n",
              "         [1.39916019e-05, 1.39312933e-05, 1.38106761e-05],\n",
              "         [9.83030714e-06, 9.76999854e-06, 9.64938135e-06]],\n",
              "\n",
              "        [[1.47153060e-05, 1.47153060e-05, 1.45946888e-05],\n",
              "         [1.42931458e-05, 1.42931458e-05, 1.41725286e-05],\n",
              "         [1.36900589e-05, 1.36900589e-05, 1.35694418e-05],\n",
              "         ...,\n",
              "         [1.43534544e-05, 1.42931458e-05, 1.41725286e-05],\n",
              "         [1.32678988e-05, 1.32075902e-05, 1.30869730e-05],\n",
              "         [8.02104842e-06, 7.96073982e-06, 7.84012263e-06]]],\n",
              "\n",
              "\n",
              "       [[[1.20617267e-06, 1.08555537e-06, 1.92987636e-06],\n",
              "         [1.68864165e-06, 1.62833305e-06, 2.47265393e-06],\n",
              "         [2.29172815e-06, 2.23141933e-06, 3.19635728e-06],\n",
              "         ...,\n",
              "         [2.95512291e-06, 3.19635728e-06, 3.25666610e-06],\n",
              "         [2.83450549e-06, 3.31697470e-06, 3.43759189e-06],\n",
              "         [2.23141933e-06, 2.89481432e-06, 3.01543150e-06]],\n",
              "\n",
              "        [[1.80925895e-06, 1.68864165e-06, 2.47265393e-06],\n",
              "         [1.50771575e-06, 1.38709845e-06, 2.17111074e-06],\n",
              "         [1.62833305e-06, 1.62833305e-06, 2.35203674e-06],\n",
              "         ...,\n",
              "         [3.61851789e-06, 3.67882649e-06, 3.79944368e-06],\n",
              "         [3.79944368e-06, 4.28191288e-06, 4.46283866e-06],\n",
              "         [3.25666610e-06, 3.92006132e-06, 4.04067850e-06]],\n",
              "\n",
              "        [[1.74895024e-06, 1.56802435e-06, 1.99018496e-06],\n",
              "         [1.20617267e-06, 1.14586408e-06, 1.50771575e-06],\n",
              "         [1.56802435e-06, 1.56802435e-06, 2.05049355e-06],\n",
              "         ...,\n",
              "         [3.61851789e-06, 3.67882649e-06, 3.79944368e-06],\n",
              "         [4.28191288e-06, 4.58345630e-06, 4.82469068e-06],\n",
              "         [3.92006132e-06, 4.46283866e-06, 4.76438208e-06]],\n",
              "\n",
              "        ...,\n",
              "\n",
              "        [[5.42777661e-06, 3.31697470e-06, 1.02524677e-06],\n",
              "         [5.42777661e-06, 3.31697470e-06, 9.04629474e-07],\n",
              "         [6.21178879e-06, 3.92006132e-06, 1.56802435e-06],\n",
              "         ...,\n",
              "         [6.27209738e-06, 4.04067850e-06, 1.38709845e-06],\n",
              "         [5.97055441e-06, 3.73913508e-06, 1.20617267e-06],\n",
              "         [5.84993722e-06, 3.61851789e-06, 1.08555537e-06]],\n",
              "\n",
              "        [[5.36746802e-06, 3.25666610e-06, 9.64938181e-07],\n",
              "         [5.48808521e-06, 3.37728329e-06, 9.64938181e-07],\n",
              "         [6.03086301e-06, 3.73913508e-06, 1.38709845e-06],\n",
              "         ...,\n",
              "         [6.09117160e-06, 3.85975272e-06, 1.20617267e-06],\n",
              "         [5.84993722e-06, 3.61851789e-06, 1.08555537e-06],\n",
              "         [5.66901099e-06, 3.43759189e-06, 9.04629474e-07]],\n",
              "\n",
              "        [[4.88499927e-06, 2.77419690e-06, 4.82469090e-07],\n",
              "         [5.30715943e-06, 3.19635728e-06, 7.84012173e-07],\n",
              "         [5.91024582e-06, 3.61851789e-06, 1.26648126e-06],\n",
              "         ...,\n",
              "         [5.97055441e-06, 3.73913508e-06, 1.08555537e-06],\n",
              "         [5.72931958e-06, 3.49790048e-06, 9.64938181e-07],\n",
              "         [5.42777661e-06, 3.19635728e-06, 6.63394928e-07]]],\n",
              "\n",
              "\n",
              "       [[[9.16691260e-06, 9.04629542e-06, 9.83030714e-06],\n",
              "         [8.50351717e-06, 8.38289998e-06, 9.16691260e-06],\n",
              "         [8.26228279e-06, 8.08135701e-06, 8.74475154e-06],\n",
              "         ...,\n",
              "         [8.80506013e-06, 8.08135701e-06, 6.63394940e-06],\n",
              "         [8.80506013e-06, 8.08135701e-06, 6.63394940e-06],\n",
              "         [8.98598682e-06, 8.26228279e-06, 6.81487518e-06]],\n",
              "\n",
              "        [[1.26045034e-05, 1.24838862e-05, 1.32678988e-05],\n",
              "         [1.07349360e-05, 1.05540103e-05, 1.12174048e-05],\n",
              "         [9.95092432e-06, 9.76999854e-06, 1.04333931e-05],\n",
              "         ...,\n",
              "         [8.50351717e-06, 8.02104842e-06, 6.75456658e-06],\n",
              "         [8.56382576e-06, 8.08135701e-06, 6.81487518e-06],\n",
              "         [8.68444295e-06, 8.20197420e-06, 6.93549237e-06]],\n",
              "\n",
              "        [[1.16998744e-05, 1.15189487e-05, 1.21823432e-05],\n",
              "         [1.20617260e-05, 1.18808002e-05, 1.24235776e-05],\n",
              "         [8.68444295e-06, 8.38289998e-06, 8.80506013e-06],\n",
              "         ...,\n",
              "         [7.47827016e-06, 7.23703579e-06, 6.51333221e-06],\n",
              "         [7.53857876e-06, 7.29734438e-06, 6.57364080e-06],\n",
              "         [7.71950545e-06, 7.47827016e-06, 6.75456658e-06]],\n",
              "\n",
              "        ...,\n",
              "\n",
              "        [[1.17601830e-05, 1.15792573e-05, 1.21220346e-05],\n",
              "         [8.02104842e-06, 7.90043123e-06, 8.56382576e-06],\n",
              "         [9.16691260e-06, 9.16691260e-06, 9.89061573e-06],\n",
              "         ...,\n",
              "         [5.72931958e-06, 4.82469068e-06, 5.00561646e-06],\n",
              "         [4.22160429e-06, 3.43759189e-06, 4.04067850e-06],\n",
              "         [4.28191288e-06, 3.43759189e-06, 4.22160429e-06]],\n",
              "\n",
              "        [[1.07952446e-05, 1.04333931e-05, 1.10364790e-05],\n",
              "         [8.08135701e-06, 7.90043123e-06, 8.56382576e-06],\n",
              "         [7.90043123e-06, 7.90043123e-06, 8.62413435e-06],\n",
              "         ...,\n",
              "         [4.94530786e-06, 4.04067850e-06, 4.22160429e-06],\n",
              "         [4.04067850e-06, 3.25666610e-06, 3.85975272e-06],\n",
              "         [4.34222147e-06, 3.49790048e-06, 4.28191288e-06]],\n",
              "\n",
              "        [[1.01921587e-05, 9.83030714e-06, 1.04333931e-05],\n",
              "         [8.08135701e-06, 7.90043123e-06, 8.56382576e-06],\n",
              "         [6.27209738e-06, 6.27209738e-06, 6.99580096e-06],\n",
              "         ...,\n",
              "         [3.79944368e-06, 2.89481432e-06, 3.07574010e-06],\n",
              "         [3.25666610e-06, 2.47265393e-06, 3.07574010e-06],\n",
              "         [3.73913508e-06, 2.89481432e-06, 3.67882649e-06]]]], dtype=float32)"
            ]
          },
          "metadata": {},
          "execution_count": 95
        }
      ]
    },
    {
      "cell_type": "code",
      "source": [
        "# 넘파이 배열로 변환\n",
        "train_labels = np.array(train_labels)\n",
        "test_labels = np.array(test_labels)"
      ],
      "metadata": {
        "id": "pRVgQXNTPs5a"
      },
      "execution_count": null,
      "outputs": []
    },
    {
      "cell_type": "code",
      "source": [
        "# 모델 훈련\n",
        "history = model.fit(train_images, train_labels, epochs=50, batch_size=128, validation_data=(test_images, test_labels))"
      ],
      "metadata": {
        "colab": {
          "base_uri": "https://localhost:8080/"
        },
        "collapsed": true,
        "id": "QwQjj6sVP23u",
        "outputId": "9c17dc55-f223-4687-8f99-c08bef9e92c8"
      },
      "execution_count": null,
      "outputs": [
        {
          "output_type": "stream",
          "name": "stdout",
          "text": [
            "Epoch 1/50\n",
            "\u001b[1m1/1\u001b[0m \u001b[32m━━━━━━━━━━━━━━━━━━━━\u001b[0m\u001b[37m\u001b[0m \u001b[1m2s\u001b[0m 2s/step - acc: 0.5000 - loss: 0.6931 - val_acc: 0.5000 - val_loss: 0.6931\n",
            "Epoch 2/50\n",
            "\u001b[1m1/1\u001b[0m \u001b[32m━━━━━━━━━━━━━━━━━━━━\u001b[0m\u001b[37m\u001b[0m \u001b[1m0s\u001b[0m 316ms/step - acc: 0.5208 - loss: 0.6932 - val_acc: 0.5000 - val_loss: 0.6931\n",
            "Epoch 3/50\n",
            "\u001b[1m1/1\u001b[0m \u001b[32m━━━━━━━━━━━━━━━━━━━━\u001b[0m\u001b[37m\u001b[0m \u001b[1m0s\u001b[0m 152ms/step - acc: 0.5417 - loss: 0.6929 - val_acc: 0.5000 - val_loss: 0.6932\n",
            "Epoch 4/50\n",
            "\u001b[1m1/1\u001b[0m \u001b[32m━━━━━━━━━━━━━━━━━━━━\u001b[0m\u001b[37m\u001b[0m \u001b[1m0s\u001b[0m 164ms/step - acc: 0.5417 - loss: 0.6933 - val_acc: 0.5000 - val_loss: 0.6931\n",
            "Epoch 5/50\n",
            "\u001b[1m1/1\u001b[0m \u001b[32m━━━━━━━━━━━━━━━━━━━━\u001b[0m\u001b[37m\u001b[0m \u001b[1m0s\u001b[0m 296ms/step - acc: 0.5417 - loss: 0.6930 - val_acc: 0.5000 - val_loss: 0.6931\n",
            "Epoch 6/50\n",
            "\u001b[1m1/1\u001b[0m \u001b[32m━━━━━━━━━━━━━━━━━━━━\u001b[0m\u001b[37m\u001b[0m \u001b[1m0s\u001b[0m 156ms/step - acc: 0.4792 - loss: 0.6937 - val_acc: 0.5000 - val_loss: 0.6931\n",
            "Epoch 7/50\n",
            "\u001b[1m1/1\u001b[0m \u001b[32m━━━━━━━━━━━━━━━━━━━━\u001b[0m\u001b[37m\u001b[0m \u001b[1m0s\u001b[0m 300ms/step - acc: 0.5000 - loss: 0.6932 - val_acc: 0.5000 - val_loss: 0.6931\n",
            "Epoch 8/50\n",
            "\u001b[1m1/1\u001b[0m \u001b[32m━━━━━━━━━━━━━━━━━━━━\u001b[0m\u001b[37m\u001b[0m \u001b[1m0s\u001b[0m 296ms/step - acc: 0.4167 - loss: 0.6936 - val_acc: 0.5000 - val_loss: 0.6931\n",
            "Epoch 9/50\n",
            "\u001b[1m1/1\u001b[0m \u001b[32m━━━━━━━━━━━━━━━━━━━━\u001b[0m\u001b[37m\u001b[0m \u001b[1m0s\u001b[0m 189ms/step - acc: 0.5000 - loss: 0.6930 - val_acc: 0.5000 - val_loss: 0.6931\n",
            "Epoch 10/50\n",
            "\u001b[1m1/1\u001b[0m \u001b[32m━━━━━━━━━━━━━━━━━━━━\u001b[0m\u001b[37m\u001b[0m \u001b[1m0s\u001b[0m 295ms/step - acc: 0.3333 - loss: 0.6933 - val_acc: 0.5000 - val_loss: 0.6931\n",
            "Epoch 11/50\n",
            "\u001b[1m1/1\u001b[0m \u001b[32m━━━━━━━━━━━━━━━━━━━━\u001b[0m\u001b[37m\u001b[0m \u001b[1m0s\u001b[0m 233ms/step - acc: 0.5208 - loss: 0.6930 - val_acc: 0.5000 - val_loss: 0.6931\n",
            "Epoch 12/50\n",
            "\u001b[1m1/1\u001b[0m \u001b[32m━━━━━━━━━━━━━━━━━━━━\u001b[0m\u001b[37m\u001b[0m \u001b[1m0s\u001b[0m 135ms/step - acc: 0.5417 - loss: 0.6932 - val_acc: 0.5000 - val_loss: 0.6931\n",
            "Epoch 13/50\n",
            "\u001b[1m1/1\u001b[0m \u001b[32m━━━━━━━━━━━━━━━━━━━━\u001b[0m\u001b[37m\u001b[0m \u001b[1m0s\u001b[0m 152ms/step - acc: 0.4375 - loss: 0.6932 - val_acc: 0.5000 - val_loss: 0.6931\n",
            "Epoch 14/50\n",
            "\u001b[1m1/1\u001b[0m \u001b[32m━━━━━━━━━━━━━━━━━━━━\u001b[0m\u001b[37m\u001b[0m \u001b[1m0s\u001b[0m 99ms/step - acc: 0.5625 - loss: 0.6927 - val_acc: 0.5000 - val_loss: 0.6931\n",
            "Epoch 15/50\n",
            "\u001b[1m1/1\u001b[0m \u001b[32m━━━━━━━━━━━━━━━━━━━━\u001b[0m\u001b[37m\u001b[0m \u001b[1m0s\u001b[0m 100ms/step - acc: 0.5625 - loss: 0.6927 - val_acc: 0.5000 - val_loss: 0.6931\n",
            "Epoch 16/50\n",
            "\u001b[1m1/1\u001b[0m \u001b[32m━━━━━━━━━━━━━━━━━━━━\u001b[0m\u001b[37m\u001b[0m \u001b[1m0s\u001b[0m 95ms/step - acc: 0.4167 - loss: 0.6936 - val_acc: 0.5000 - val_loss: 0.6931\n",
            "Epoch 17/50\n",
            "\u001b[1m1/1\u001b[0m \u001b[32m━━━━━━━━━━━━━━━━━━━━\u001b[0m\u001b[37m\u001b[0m \u001b[1m0s\u001b[0m 95ms/step - acc: 0.4583 - loss: 0.6933 - val_acc: 0.5000 - val_loss: 0.6931\n",
            "Epoch 18/50\n",
            "\u001b[1m1/1\u001b[0m \u001b[32m━━━━━━━━━━━━━━━━━━━━\u001b[0m\u001b[37m\u001b[0m \u001b[1m0s\u001b[0m 109ms/step - acc: 0.4583 - loss: 0.6935 - val_acc: 0.5000 - val_loss: 0.6931\n",
            "Epoch 19/50\n",
            "\u001b[1m1/1\u001b[0m \u001b[32m━━━━━━━━━━━━━━━━━━━━\u001b[0m\u001b[37m\u001b[0m \u001b[1m0s\u001b[0m 125ms/step - acc: 0.3333 - loss: 0.6940 - val_acc: 0.5000 - val_loss: 0.6932\n",
            "Epoch 20/50\n",
            "\u001b[1m1/1\u001b[0m \u001b[32m━━━━━━━━━━━━━━━━━━━━\u001b[0m\u001b[37m\u001b[0m \u001b[1m0s\u001b[0m 94ms/step - acc: 0.3958 - loss: 0.6940 - val_acc: 0.5000 - val_loss: 0.6932\n",
            "Epoch 21/50\n",
            "\u001b[1m1/1\u001b[0m \u001b[32m━━━━━━━━━━━━━━━━━━━━\u001b[0m\u001b[37m\u001b[0m \u001b[1m0s\u001b[0m 97ms/step - acc: 0.5625 - loss: 0.6929 - val_acc: 0.5000 - val_loss: 0.6932\n",
            "Epoch 22/50\n",
            "\u001b[1m1/1\u001b[0m \u001b[32m━━━━━━━━━━━━━━━━━━━━\u001b[0m\u001b[37m\u001b[0m \u001b[1m0s\u001b[0m 97ms/step - acc: 0.4583 - loss: 0.6931 - val_acc: 0.5000 - val_loss: 0.6932\n",
            "Epoch 23/50\n",
            "\u001b[1m1/1\u001b[0m \u001b[32m━━━━━━━━━━━━━━━━━━━━\u001b[0m\u001b[37m\u001b[0m \u001b[1m0s\u001b[0m 150ms/step - acc: 0.5625 - loss: 0.6929 - val_acc: 0.5000 - val_loss: 0.6931\n",
            "Epoch 24/50\n",
            "\u001b[1m1/1\u001b[0m \u001b[32m━━━━━━━━━━━━━━━━━━━━\u001b[0m\u001b[37m\u001b[0m \u001b[1m0s\u001b[0m 121ms/step - acc: 0.4583 - loss: 0.6934 - val_acc: 0.5000 - val_loss: 0.6931\n",
            "Epoch 25/50\n",
            "\u001b[1m1/1\u001b[0m \u001b[32m━━━━━━━━━━━━━━━━━━━━\u001b[0m\u001b[37m\u001b[0m \u001b[1m0s\u001b[0m 96ms/step - acc: 0.6250 - loss: 0.6930 - val_acc: 0.5000 - val_loss: 0.6931\n",
            "Epoch 26/50\n",
            "\u001b[1m1/1\u001b[0m \u001b[32m━━━━━━━━━━━━━━━━━━━━\u001b[0m\u001b[37m\u001b[0m \u001b[1m0s\u001b[0m 141ms/step - acc: 0.5625 - loss: 0.6930 - val_acc: 0.5000 - val_loss: 0.6931\n",
            "Epoch 27/50\n",
            "\u001b[1m1/1\u001b[0m \u001b[32m━━━━━━━━━━━━━━━━━━━━\u001b[0m\u001b[37m\u001b[0m \u001b[1m0s\u001b[0m 135ms/step - acc: 0.4583 - loss: 0.6933 - val_acc: 0.5000 - val_loss: 0.6931\n",
            "Epoch 28/50\n",
            "\u001b[1m1/1\u001b[0m \u001b[32m━━━━━━━━━━━━━━━━━━━━\u001b[0m\u001b[37m\u001b[0m \u001b[1m0s\u001b[0m 132ms/step - acc: 0.5625 - loss: 0.6931 - val_acc: 0.5000 - val_loss: 0.6931\n",
            "Epoch 29/50\n",
            "\u001b[1m1/1\u001b[0m \u001b[32m━━━━━━━━━━━━━━━━━━━━\u001b[0m\u001b[37m\u001b[0m \u001b[1m0s\u001b[0m 99ms/step - acc: 0.3542 - loss: 0.6939 - val_acc: 0.5000 - val_loss: 0.6931\n",
            "Epoch 30/50\n",
            "\u001b[1m1/1\u001b[0m \u001b[32m━━━━━━━━━━━━━━━━━━━━\u001b[0m\u001b[37m\u001b[0m \u001b[1m0s\u001b[0m 99ms/step - acc: 0.5000 - loss: 0.6931 - val_acc: 0.5000 - val_loss: 0.6931\n",
            "Epoch 31/50\n",
            "\u001b[1m1/1\u001b[0m \u001b[32m━━━━━━━━━━━━━━━━━━━━\u001b[0m\u001b[37m\u001b[0m \u001b[1m0s\u001b[0m 111ms/step - acc: 0.4375 - loss: 0.6935 - val_acc: 0.5000 - val_loss: 0.6931\n",
            "Epoch 32/50\n",
            "\u001b[1m1/1\u001b[0m \u001b[32m━━━━━━━━━━━━━━━━━━━━\u001b[0m\u001b[37m\u001b[0m \u001b[1m0s\u001b[0m 142ms/step - acc: 0.5208 - loss: 0.6929 - val_acc: 0.5000 - val_loss: 0.6931\n",
            "Epoch 33/50\n",
            "\u001b[1m1/1\u001b[0m \u001b[32m━━━━━━━━━━━━━━━━━━━━\u001b[0m\u001b[37m\u001b[0m \u001b[1m0s\u001b[0m 94ms/step - acc: 0.5000 - loss: 0.6935 - val_acc: 0.5000 - val_loss: 0.6931\n",
            "Epoch 34/50\n",
            "\u001b[1m1/1\u001b[0m \u001b[32m━━━━━━━━━━━━━━━━━━━━\u001b[0m\u001b[37m\u001b[0m \u001b[1m0s\u001b[0m 137ms/step - acc: 0.4375 - loss: 0.6938 - val_acc: 0.5000 - val_loss: 0.6931\n",
            "Epoch 35/50\n",
            "\u001b[1m1/1\u001b[0m \u001b[32m━━━━━━━━━━━━━━━━━━━━\u001b[0m\u001b[37m\u001b[0m \u001b[1m0s\u001b[0m 136ms/step - acc: 0.4792 - loss: 0.6931 - val_acc: 0.5000 - val_loss: 0.6931\n",
            "Epoch 36/50\n",
            "\u001b[1m1/1\u001b[0m \u001b[32m━━━━━━━━━━━━━━━━━━━━\u001b[0m\u001b[37m\u001b[0m \u001b[1m0s\u001b[0m 143ms/step - acc: 0.4375 - loss: 0.6933 - val_acc: 0.5000 - val_loss: 0.6931\n",
            "Epoch 37/50\n",
            "\u001b[1m1/1\u001b[0m \u001b[32m━━━━━━━━━━━━━━━━━━━━\u001b[0m\u001b[37m\u001b[0m \u001b[1m0s\u001b[0m 139ms/step - acc: 0.5417 - loss: 0.6933 - val_acc: 0.5000 - val_loss: 0.6931\n",
            "Epoch 38/50\n",
            "\u001b[1m1/1\u001b[0m \u001b[32m━━━━━━━━━━━━━━━━━━━━\u001b[0m\u001b[37m\u001b[0m \u001b[1m0s\u001b[0m 147ms/step - acc: 0.5625 - loss: 0.6928 - val_acc: 0.5000 - val_loss: 0.6931\n",
            "Epoch 39/50\n",
            "\u001b[1m1/1\u001b[0m \u001b[32m━━━━━━━━━━━━━━━━━━━━\u001b[0m\u001b[37m\u001b[0m \u001b[1m0s\u001b[0m 99ms/step - acc: 0.5208 - loss: 0.6932 - val_acc: 0.5000 - val_loss: 0.6931\n",
            "Epoch 40/50\n",
            "\u001b[1m1/1\u001b[0m \u001b[32m━━━━━━━━━━━━━━━━━━━━\u001b[0m\u001b[37m\u001b[0m \u001b[1m0s\u001b[0m 132ms/step - acc: 0.5000 - loss: 0.6934 - val_acc: 0.5000 - val_loss: 0.6931\n",
            "Epoch 41/50\n",
            "\u001b[1m1/1\u001b[0m \u001b[32m━━━━━━━━━━━━━━━━━━━━\u001b[0m\u001b[37m\u001b[0m \u001b[1m0s\u001b[0m 97ms/step - acc: 0.5000 - loss: 0.6933 - val_acc: 0.5000 - val_loss: 0.6931\n",
            "Epoch 42/50\n",
            "\u001b[1m1/1\u001b[0m \u001b[32m━━━━━━━━━━━━━━━━━━━━\u001b[0m\u001b[37m\u001b[0m \u001b[1m0s\u001b[0m 98ms/step - acc: 0.5625 - loss: 0.6932 - val_acc: 0.5000 - val_loss: 0.6931\n",
            "Epoch 43/50\n",
            "\u001b[1m1/1\u001b[0m \u001b[32m━━━━━━━━━━━━━━━━━━━━\u001b[0m\u001b[37m\u001b[0m \u001b[1m0s\u001b[0m 105ms/step - acc: 0.4583 - loss: 0.6932 - val_acc: 0.5000 - val_loss: 0.6931\n",
            "Epoch 44/50\n",
            "\u001b[1m1/1\u001b[0m \u001b[32m━━━━━━━━━━━━━━━━━━━━\u001b[0m\u001b[37m\u001b[0m \u001b[1m0s\u001b[0m 138ms/step - acc: 0.5833 - loss: 0.6931 - val_acc: 0.5000 - val_loss: 0.6931\n",
            "Epoch 45/50\n",
            "\u001b[1m1/1\u001b[0m \u001b[32m━━━━━━━━━━━━━━━━━━━━\u001b[0m\u001b[37m\u001b[0m \u001b[1m0s\u001b[0m 102ms/step - acc: 0.3542 - loss: 0.6935 - val_acc: 0.5000 - val_loss: 0.6931\n",
            "Epoch 46/50\n",
            "\u001b[1m1/1\u001b[0m \u001b[32m━━━━━━━━━━━━━━━━━━━━\u001b[0m\u001b[37m\u001b[0m \u001b[1m0s\u001b[0m 123ms/step - acc: 0.5625 - loss: 0.6929 - val_acc: 0.5000 - val_loss: 0.6931\n",
            "Epoch 47/50\n",
            "\u001b[1m1/1\u001b[0m \u001b[32m━━━━━━━━━━━━━━━━━━━━\u001b[0m\u001b[37m\u001b[0m \u001b[1m0s\u001b[0m 109ms/step - acc: 0.5000 - loss: 0.6928 - val_acc: 0.5000 - val_loss: 0.6931\n",
            "Epoch 48/50\n",
            "\u001b[1m1/1\u001b[0m \u001b[32m━━━━━━━━━━━━━━━━━━━━\u001b[0m\u001b[37m\u001b[0m \u001b[1m0s\u001b[0m 133ms/step - acc: 0.4375 - loss: 0.6926 - val_acc: 0.5000 - val_loss: 0.6931\n",
            "Epoch 49/50\n",
            "\u001b[1m1/1\u001b[0m \u001b[32m━━━━━━━━━━━━━━━━━━━━\u001b[0m\u001b[37m\u001b[0m \u001b[1m0s\u001b[0m 141ms/step - acc: 0.5417 - loss: 0.6931 - val_acc: 0.5000 - val_loss: 0.6931\n",
            "Epoch 50/50\n",
            "\u001b[1m1/1\u001b[0m \u001b[32m━━━━━━━━━━━━━━━━━━━━\u001b[0m\u001b[37m\u001b[0m \u001b[1m0s\u001b[0m 142ms/step - acc: 0.6458 - loss: 0.6922 - val_acc: 0.5000 - val_loss: 0.6931\n"
          ]
        }
      ]
    },
    {
      "cell_type": "code",
      "source": [
        "# 성능 평가\n",
        "print(\"Test Data Accuracy:\", model.evaluate(test_images, test_labels))"
      ],
      "metadata": {
        "colab": {
          "base_uri": "https://localhost:8080/"
        },
        "id": "RkskH_ZSSSGe",
        "outputId": "1c37e3b7-6083-4d2f-c7d3-8f65db9b95ab"
      },
      "execution_count": null,
      "outputs": [
        {
          "output_type": "stream",
          "name": "stdout",
          "text": [
            "\u001b[1m1/1\u001b[0m \u001b[32m━━━━━━━━━━━━━━━━━━━━\u001b[0m\u001b[37m\u001b[0m \u001b[1m0s\u001b[0m 29ms/step - acc: 0.5000 - loss: 0.6931\n",
            "Test Data Accuracy: [0.6931480765342712, 0.5]\n"
          ]
        }
      ]
    },
    {
      "cell_type": "code",
      "source": [
        "# 예측 결과\n",
        "model.predict(test_images)   # predict(독립변수) -> 예측값 나옴"
      ],
      "metadata": {
        "colab": {
          "base_uri": "https://localhost:8080/"
        },
        "collapsed": true,
        "id": "vs0WS-m6Sbby",
        "outputId": "c4e1a98f-6b6d-4213-b32d-126813bcaa0c"
      },
      "execution_count": null,
      "outputs": [
        {
          "output_type": "stream",
          "name": "stdout",
          "text": [
            "\u001b[1m1/1\u001b[0m \u001b[32m━━━━━━━━━━━━━━━━━━━━\u001b[0m\u001b[37m\u001b[0m \u001b[1m0s\u001b[0m 73ms/step\n"
          ]
        },
        {
          "output_type": "execute_result",
          "data": {
            "text/plain": [
              "array([[0.4999066 ],\n",
              "       [0.49990976],\n",
              "       [0.4999106 ],\n",
              "       [0.49990714],\n",
              "       [0.49990672],\n",
              "       [0.4999053 ],\n",
              "       [0.49990654],\n",
              "       [0.49990916],\n",
              "       [0.49990934],\n",
              "       [0.499909  ],\n",
              "       [0.49991193],\n",
              "       [0.49990717]], dtype=float32)"
            ]
          },
          "metadata": {},
          "execution_count": 104
        }
      ]
    },
    {
      "cell_type": "code",
      "source": [
        "# 정확도 확인\n",
        "acc = history.history['acc']\n",
        "val_acc = history.history['val_acc']\n",
        "loss = history.history['loss']\n",
        "val_loss = history.history['val_loss']\n",
        "\n",
        "print('Accuraacy of each epoch:', acc)\n",
        "print()\n",
        "print('Validation Accuracy of each epoch:', val_acc)"
      ],
      "metadata": {
        "colab": {
          "base_uri": "https://localhost:8080/"
        },
        "id": "J6CtZr3LSfht",
        "outputId": "e1ac023b-5c80-4590-e1df-5517d94821de"
      },
      "execution_count": null,
      "outputs": [
        {
          "output_type": "stream",
          "name": "stdout",
          "text": [
            "Accuraacy of each epoch: [0.5, 0.5208333134651184, 0.5416666865348816, 0.5416666865348816, 0.5416666865348816, 0.4791666567325592, 0.5, 0.4166666567325592, 0.5, 0.3333333432674408, 0.5208333134651184, 0.5416666865348816, 0.4375, 0.5625, 0.5625, 0.4166666567325592, 0.4583333432674408, 0.4583333432674408, 0.3333333432674408, 0.3958333432674408, 0.5625, 0.4583333432674408, 0.5625, 0.4583333432674408, 0.625, 0.5625, 0.4583333432674408, 0.5625, 0.3541666567325592, 0.5, 0.4375, 0.5208333134651184, 0.5, 0.4375, 0.4791666567325592, 0.4375, 0.5416666865348816, 0.5625, 0.5208333134651184, 0.5, 0.5, 0.5625, 0.4583333432674408, 0.5833333134651184, 0.3541666567325592, 0.5625, 0.5, 0.4375, 0.5416666865348816, 0.6458333134651184]\n",
            "\n",
            "Validation Accuracy of each epoch: [0.5, 0.5, 0.5, 0.5, 0.5, 0.5, 0.5, 0.5, 0.5, 0.5, 0.5, 0.5, 0.5, 0.5, 0.5, 0.5, 0.5, 0.5, 0.5, 0.5, 0.5, 0.5, 0.5, 0.5, 0.5, 0.5, 0.5, 0.5, 0.5, 0.5, 0.5, 0.5, 0.5, 0.5, 0.5, 0.5, 0.5, 0.5, 0.5, 0.5, 0.5, 0.5, 0.5, 0.5, 0.5, 0.5, 0.5, 0.5, 0.5, 0.5]\n"
          ]
        }
      ]
    },
    {
      "cell_type": "code",
      "source": [
        "# 손실값 확인\n",
        "print('Loss of each epoch:', np.round(loss,3))\n",
        "print()\n",
        "print('Validation Loss of each epoch:', np.round(val_loss,3))"
      ],
      "metadata": {
        "id": "eiZTL3z3SuRq"
      },
      "execution_count": null,
      "outputs": []
    },
    {
      "cell_type": "code",
      "source": [
        "# 그래프 확인\n",
        "import matplotlib.pyplot as plt\n",
        "\n",
        "epochs = range(1, len(val_acc) +1)\n",
        "\n",
        "plt.plot(epochs, acc, 'bo', label='Training acc')\n",
        "plt.plot(epochs, val_acc, 'b', label='Validation acc')\n",
        "plt.title('Training and validation accuracy')\n",
        "plt.legend()\n",
        "\n",
        "plt.figure()\n",
        "\n",
        "plt.plot(epochs, loss, 'bo', label='Training loss')\n",
        "plt.plot(epochs, val_loss, 'b', label='Validation loss')\n",
        "plt.title('Training and validation loss')\n",
        "plt.legend()\n",
        "\n",
        "plt.show()"
      ],
      "metadata": {
        "colab": {
          "base_uri": "https://localhost:8080/",
          "height": 887
        },
        "id": "26LSvmddS5Em",
        "outputId": "73933bce-14c9-4602-e208-cbb15bcc612e"
      },
      "execution_count": null,
      "outputs": [
        {
          "output_type": "display_data",
          "data": {
            "text/plain": [
              "<Figure size 640x480 with 1 Axes>"
            ],
            "image/png": "[encoded data removed]"
          },
          "metadata": {}
        },
        {
          "output_type": "display_data",
          "data": {
            "text/plain": [
              "<Figure size 640x480 with 1 Axes>"
            ],
            "image/png": "[encoded data removed]"
          },
          "metadata": {}
        }
      ]
    }
  ]
}